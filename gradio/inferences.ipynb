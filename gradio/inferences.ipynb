{
 "cells": [
  {
   "cell_type": "markdown",
   "metadata": {},
   "source": [
    "inferences references"
   ]
  },
  {
   "cell_type": "markdown",
   "metadata": {},
   "source": [
    " - had to install mmdetect manually ( option 1) + fix : https://github.com/open-mmlab/mmdetection/issues/11063\n",
    " - had to copy ssd weights and ssd configs (ssdbest.pth + ssd_config.py)\n",
    " - had to copy image_inference.py\n",
    " - install gradio, ultralytics\n",
    " \n",
    " - install yolov5, with requirements"
   ]
  },
  {
   "cell_type": "code",
   "execution_count": 1,
   "metadata": {},
   "outputs": [],
   "source": [
    "from ultralytics import YOLO"
   ]
  },
  {
   "cell_type": "markdown",
   "metadata": {},
   "source": [
    "**flightscope** env"
   ]
  },
  {
   "cell_type": "markdown",
   "metadata": {},
   "source": [
    "## 1 SSD"
   ]
  },
  {
   "cell_type": "code",
   "execution_count": 1,
   "metadata": {},
   "outputs": [
    {
     "name": "stdout",
     "output_type": "stream",
     "text": [
      "Loads checkpoint by local backend from path: ssdbest.pth\n",
      "04/12 11:52:26 - mmengine - \u001b[5m\u001b[4m\u001b[33mWARNING\u001b[0m - Failed to search registry with scope \"mmdet\" in the \"function\" registry tree. As a workaround, the current \"function\" registry in \"mmengine\" is used to build instance. This may cause unexpected failure when running the built modules. Please check whether \"mmdet\" is a correct scope, or whether the registry is initialized.\n",
      "/home/arnaud/miniconda3/envs/flightscope/lib/python3.8/site-packages/mmengine/visualization/visualizer.py:196: UserWarning: Failed to add <class 'mmengine.visualization.vis_backend.LocalVisBackend'>, please provide the `save_dir` argument.\n",
      "  warnings.warn(f'Failed to add {vis_backend.__class__}, '\n",
      "/home/arnaud/miniconda3/envs/flightscope/lib/python3.8/site-packages/mmengine/visualization/visualizer.py:196: UserWarning: Failed to add <class 'mmengine.visualization.vis_backend.TensorboardVisBackend'>, please provide the `save_dir` argument.\n",
      "  warnings.warn(f'Failed to add {vis_backend.__class__}, '\n",
      "\u001b[2K/home/arnaud/miniconda3/envs/flightscope/lib/python3.8/site-packages/mmengine/vi\u001b[35m━\u001b[0m\u001b[91m━\u001b[0m\u001b[91m━\u001b[0m\u001b[91m━\u001b[0m\u001b[91m━\u001b[0m\u001b[91m━\u001b[0m\u001b[91m━\u001b[0m\u001b[91m━\u001b[0m\u001b[35m━\u001b[0m\u001b[90m━\u001b[0m\u001b[90m━\u001b[0m\u001b[90m━\u001b[0m\u001b[90m━\u001b[0m\u001b[90m━\u001b[0m\u001b[90m━\u001b[0m\u001b[90m━\u001b[0m\u001b[90m━\u001b[0m\u001b[90m━\u001b[0m\u001b[90m━\u001b[0m\u001b[90m━\u001b[0m\u001b[35m━\u001b[0m\u001b[91m━\u001b[0m\u001b[91m━\u001b[0m\u001b[91m━\u001b[0m\u001b[91m━\u001b[0m\u001b[91m━\u001b[0m\u001b[91m━\u001b[0m\u001b[91m━\u001b[0m\u001b[35m━\u001b[0m\u001b[90m━\u001b[0m\u001b[90m━\u001b[0m\u001b[90m━\u001b[0m\u001b[90m━\u001b[0m \u001b[35m1.0 it/s\u001b[0m \u001b[36m \u001b[0m\n",
      "sualization/visualizer.py:760: UserWarning: Warning: The bbox is out of bounds, \n",
      "the drawn bbox may not be in the image\n",
      "  warnings.warn(\n",
      "\u001b[2K/home/arnaud/miniconda3/envs/flightscope/lib/python3.8/site-packages/mmengine/vim━\u001b[0m\u001b[91m━\u001b[0m\u001b[91m━\u001b[0m\u001b[91m━\u001b[0m\u001b[91m━\u001b[0m\u001b[91m━\u001b[0m\u001b[91m━\u001b[0m\u001b[91m━\u001b[0m\u001b[35m━\u001b[0m\u001b[90m━\u001b[0m\u001b[90m━\u001b[0m\u001b[90m━\u001b[0m\u001b[90m━\u001b[0m\u001b[90m━\u001b[0m\u001b[90m━\u001b[0m\u001b[90m━\u001b[0m\u001b[90m━\u001b[0m\u001b[90m━\u001b[0m\u001b[90m━\u001b[0m\u001b[90m━\u001b[0m\u001b[35m━\u001b[0m\u001b[91m━\u001b[0m\u001b[91m━\u001b[0m\u001b[91m━\u001b[0m\u001b[91m━\u001b[0m\u001b[91m━\u001b[0m\u001b[91m━\u001b[0m\u001b[91m━\u001b[0m\u001b[35m━\u001b[0m\u001b[90m━\u001b[0m\u001b[90m━\u001b[0m\u001b[90m━\u001b[0m\u001b[90m━\u001b[0m \u001b[35m1.0 it/s\u001b[0m \u001b[36m \u001b[0m\n",
      "sualization/visualizer.py:831: UserWarning: Warning: The polygon is out of \n",
      "bounds, the drawn polygon may not be in the image\n",
      "  warnings.warn(\n",
      "\u001b[2KInference \u001b[90m━\u001b[0m\u001b[90m━\u001b[0m\u001b[90m━\u001b[0m\u001b[90m━\u001b[0m\u001b[90m━\u001b[0m\u001b[90m━\u001b[0m\u001b[35m━\u001b[0m\u001b[91m━\u001b[0m\u001b[91m━\u001b[0m\u001b[91m━\u001b[0m\u001b[91m━\u001b[0m\u001b[91m━\u001b[0m\u001b[91m━\u001b[0m\u001b[91m━\u001b[0m\u001b[35m━\u001b[0m\u001b[90m━\u001b[0m\u001b[90m━\u001b[0m\u001b[90m━\u001b[0m\u001b[90m━\u001b[0m\u001b[90m━\u001b[0m\u001b[90m━\u001b[0m\u001b[90m━\u001b[0m\u001b[90m━\u001b[0m\u001b[90m━\u001b[0m\u001b[90m━\u001b[0m\u001b[90m━\u001b[0m\u001b[35m━\u001b[0m\u001b[91m━\u001b[0m\u001b[91m━\u001b[0m\u001b[91m━\u001b[0m\u001b[91m━\u001b[0m\u001b[91m━\u001b[0m\u001b[91m━\u001b[0m\u001b[91m━\u001b[0m\u001b[35m━\u001b[0m\u001b[90m━\u001b[0m\u001b[90m━\u001b[0m\u001b[90m━\u001b[0m\u001b[90m━\u001b[0m\u001b[90m━\u001b[0m \u001b[35m0.8 it/s\u001b[0m \u001b[36m \u001b[0m\n",
      "\u001b[?25hresults have been saved at inference_test/results/ssd_inference\n"
     ]
    }
   ],
   "source": [
    "# SSD\n",
    "!python image_inference.py inference_test/unseen inference_test/ssd_hrplanesv2.py --weights ssdbest.pth --out-dir inference_test/results/ssd_inference --pred-score-thr 0.3"
   ]
  },
  {
   "cell_type": "markdown",
   "metadata": {},
   "source": [
    "## 2 YOLO5"
   ]
  },
  {
   "cell_type": "code",
   "execution_count": 2,
   "metadata": {},
   "outputs": [
    {
     "name": "stdout",
     "output_type": "stream",
     "text": [
      "\u001b[34m\u001b[1mdetect: \u001b[0mweights=['yolov5best.pt'], source=inference_test/unseen, data=yolov5/data/coco128.yaml, imgsz=[640, 640], conf_thres=0.25, iou_thres=0.45, max_det=1000, device=, view_img=False, save_txt=True, save_csv=False, save_conf=True, save_crop=False, nosave=False, classes=None, agnostic_nms=False, augment=False, visualize=False, update=False, project=inference_test/results/yolov5_inference, name=predict, exist_ok=False, line_thickness=3, hide_labels=False, hide_conf=False, half=False, dnn=False, vid_stride=1\n",
      "YOLOv5 🚀 v7.0-303-gcf8b67b7 Python-3.8.19 torch-2.0.1 CUDA:0 (NVIDIA RTX A6000, 48677MiB)\n",
      "\n",
      "Fusing layers... \n",
      "YOLOv5x summary: 322 layers, 86173414 parameters, 0 gradients, 203.8 GFLOPs\n",
      "image 1/10 /home/arnaud/projects/FlightScope_Bench/gradio/inference_test/unseen/003_set2.jpg: 384x640 10 Aircrafts, 51.4ms\n",
      "image 2/10 /home/arnaud/projects/FlightScope_Bench/gradio/inference_test/unseen/022f91f0-1434-401f-a11b-e315b7068100.jpg: 640x640 25 Aircrafts, 12.0ms\n",
      "image 3/10 /home/arnaud/projects/FlightScope_Bench/gradio/inference_test/unseen/058_set2.jpg: 384x640 12 Aircrafts, 9.0ms\n",
      "image 4/10 /home/arnaud/projects/FlightScope_Bench/gradio/inference_test/unseen/066_set2.jpg: 384x640 9 Aircrafts, 8.9ms\n",
      "image 5/10 /home/arnaud/projects/FlightScope_Bench/gradio/inference_test/unseen/08a8132a-a6c7-4cab-adee-7e2976fd2822.jpg: 640x640 27 Aircrafts, 12.0ms\n",
      "image 6/10 /home/arnaud/projects/FlightScope_Bench/gradio/inference_test/unseen/22bc9d20-02c4-4554-8fed-2c127d54b5ed.jpg: 640x640 32 Aircrafts, 12.0ms\n",
      "image 7/10 /home/arnaud/projects/FlightScope_Bench/gradio/inference_test/unseen/31_set1.jpg: 384x640 15 Aircrafts, 9.0ms\n",
      "image 8/10 /home/arnaud/projects/FlightScope_Bench/gradio/inference_test/unseen/55aa185a-01c8-4668-ae87-1f1d67d15a08.jpg: 640x640 27 Aircrafts, 12.0ms\n",
      "image 9/10 /home/arnaud/projects/FlightScope_Bench/gradio/inference_test/unseen/65825eef-f8a1-41b3-ac87-4a0a7d482a0e.jpg: 640x640 21 Aircrafts, 12.0ms\n",
      "image 10/10 /home/arnaud/projects/FlightScope_Bench/gradio/inference_test/unseen/defbf838-828b-4427-9bb7-9af33563ea9c.jpg: 640x640 65 Aircrafts, 12.0ms\n",
      "Speed: 0.4ms pre-process, 15.0ms inference, 0.8ms NMS per image at shape (1, 3, 640, 640)\n",
      "Results saved to \u001b[1minference_test/results/yolov5_inference/predict2\u001b[0m\n",
      "10 labels saved to inference_test/results/yolov5_inference/predict2/labels\n"
     ]
    }
   ],
   "source": [
    "!python3 yolov5/detect.py --weights yolov5best.pt --source inference_test/unseen  --save-txt --save-conf  --project inference_test/results/yolov5_inference --name predict"
   ]
  },
  {
   "cell_type": "markdown",
   "metadata": {},
   "source": [
    "## 3 YOLO8"
   ]
  },
  {
   "cell_type": "code",
   "execution_count": 4,
   "metadata": {},
   "outputs": [
    {
     "name": "stdout",
     "output_type": "stream",
     "text": [
      "\n",
      "image 1/10 /home/arnaud/projects/FlightScope_Bench/gradio/inference_test/unseen/003_set2.jpg: 608x1024 10 Aircrafts, 74.2ms\n",
      "image 2/10 /home/arnaud/projects/FlightScope_Bench/gradio/inference_test/unseen/022f91f0-1434-401f-a11b-e315b7068100.jpg: 1024x1024 26 Aircrafts, 82.6ms\n",
      "image 3/10 /home/arnaud/projects/FlightScope_Bench/gradio/inference_test/unseen/058_set2.jpg: 608x1024 12 Aircrafts, 50.5ms\n",
      "image 4/10 /home/arnaud/projects/FlightScope_Bench/gradio/inference_test/unseen/066_set2.jpg: 608x1024 9 Aircrafts, 44.2ms\n",
      "image 5/10 /home/arnaud/projects/FlightScope_Bench/gradio/inference_test/unseen/08a8132a-a6c7-4cab-adee-7e2976fd2822.jpg: 1024x1024 27 Aircrafts, 81.8ms\n",
      "image 6/10 /home/arnaud/projects/FlightScope_Bench/gradio/inference_test/unseen/22bc9d20-02c4-4554-8fed-2c127d54b5ed.jpg: 1024x1024 33 Aircrafts, 75.2ms\n",
      "image 7/10 /home/arnaud/projects/FlightScope_Bench/gradio/inference_test/unseen/31_set1.jpg: 608x1024 16 Aircrafts, 50.8ms\n",
      "image 8/10 /home/arnaud/projects/FlightScope_Bench/gradio/inference_test/unseen/55aa185a-01c8-4668-ae87-1f1d67d15a08.jpg: 1024x1024 30 Aircrafts, 82.9ms\n",
      "image 9/10 /home/arnaud/projects/FlightScope_Bench/gradio/inference_test/unseen/65825eef-f8a1-41b3-ac87-4a0a7d482a0e.jpg: 1024x1024 20 Aircrafts, 73.2ms\n",
      "image 10/10 /home/arnaud/projects/FlightScope_Bench/gradio/inference_test/unseen/defbf838-828b-4427-9bb7-9af33563ea9c.jpg: 1024x1024 66 Aircrafts, 75.6ms\n",
      "Speed: 7.2ms preprocess, 69.1ms inference, 19.1ms postprocess per image at shape (1, 3, 1024, 1024)\n",
      "Results saved to \u001b[1minference_test/results/yolov8_inference/predict\u001b[0m\n",
      "10 labels saved to inference_test/results/yolov8_inference/predict/labels\n"
     ]
    }
   ],
   "source": [
    "# YOLO\n",
    "# MODEL_PATH = \"output_tensor/yolov8/weights/best.pt\"\n",
    "MODEL_PATH = \"yolov8best.pt\"\n",
    "\n",
    "trained_model = YOLO(model=MODEL_PATH)\n",
    "results = trained_model(source=\"./inference_test/unseen/\", imgsz = 1024, conf = 0.1, save = True,\n",
    "                        save_txt = True, save_conf = True, project = \"inference_test/results/yolov8_inference/\")  # predict on unseen images"
   ]
  },
  {
   "cell_type": "markdown",
   "metadata": {},
   "source": [
    "## 4 Faster RCNN"
   ]
  },
  {
   "cell_type": "code",
   "execution_count": 4,
   "metadata": {},
   "outputs": [
    {
     "name": "stdout",
     "output_type": "stream",
     "text": [
      "Loads checkpoint by local backend from path: rcnn_best.pth\n",
      "04/15 09:28:44 - mmengine - \u001b[5m\u001b[4m\u001b[33mWARNING\u001b[0m - Failed to search registry with scope \"mmdet\" in the \"function\" registry tree. As a workaround, the current \"function\" registry in \"mmengine\" is used to build instance. This may cause unexpected failure when running the built modules. Please check whether \"mmdet\" is a correct scope, or whether the registry is initialized.\n",
      "/home/arnaud/miniconda3/envs/flightscope/lib/python3.8/site-packages/mmengine/visualization/visualizer.py:196: UserWarning: Failed to add <class 'mmengine.visualization.vis_backend.LocalVisBackend'>, please provide the `save_dir` argument.\n",
      "  warnings.warn(f'Failed to add {vis_backend.__class__}, '\n",
      "/home/arnaud/miniconda3/envs/flightscope/lib/python3.8/site-packages/mmengine/visualization/visualizer.py:196: UserWarning: Failed to add <class 'mmengine.visualization.vis_backend.TensorboardVisBackend'>, please provide the `save_dir` argument.\n",
      "  warnings.warn(f'Failed to add {vis_backend.__class__}, '\n",
      "\u001b[2K/home/arnaud/miniconda3/envs/flightscope/lib/python3.8/site-packages/mmengine/vi\u001b[91m━\u001b[0m\u001b[91m━\u001b[0m\u001b[91m━\u001b[0m\u001b[91m━\u001b[0m\u001b[91m━\u001b[0m\u001b[91m━\u001b[0m\u001b[35m━\u001b[0m\u001b[90m━\u001b[0m\u001b[90m━\u001b[0m\u001b[90m━\u001b[0m\u001b[90m━\u001b[0m\u001b[90m━\u001b[0m\u001b[90m━\u001b[0m\u001b[90m━\u001b[0m\u001b[90m━\u001b[0m\u001b[90m━\u001b[0m\u001b[90m━\u001b[0m\u001b[90m━\u001b[0m\u001b[35m━\u001b[0m\u001b[91m━\u001b[0m\u001b[91m━\u001b[0m\u001b[91m━\u001b[0m\u001b[91m━\u001b[0m\u001b[91m━\u001b[0m\u001b[91m━\u001b[0m\u001b[91m━\u001b[0m\u001b[35m━\u001b[0m\u001b[90m━\u001b[0m\u001b[90m━\u001b[0m\u001b[90m━\u001b[0m\u001b[90m━\u001b[0m\u001b[90m━\u001b[0m\u001b[90m━\u001b[0m \u001b[35m1.1 it/s\u001b[0m \u001b[36m \u001b[0m\n",
      "sualization/visualizer.py:760: UserWarning: Warning: The bbox is out of bounds, \n",
      "the drawn bbox may not be in the image\n",
      "  warnings.warn(\n",
      "\u001b[2K/home/arnaud/miniconda3/envs/flightscope/lib/python3.8/site-packages/mmengine/vim━\u001b[0m\u001b[91m━\u001b[0m\u001b[91m━\u001b[0m\u001b[91m━\u001b[0m\u001b[91m━\u001b[0m\u001b[91m━\u001b[0m\u001b[35m━\u001b[0m\u001b[90m━\u001b[0m\u001b[90m━\u001b[0m\u001b[90m━\u001b[0m\u001b[90m━\u001b[0m\u001b[90m━\u001b[0m\u001b[90m━\u001b[0m\u001b[90m━\u001b[0m\u001b[90m━\u001b[0m\u001b[90m━\u001b[0m\u001b[90m━\u001b[0m\u001b[90m━\u001b[0m\u001b[35m━\u001b[0m\u001b[91m━\u001b[0m\u001b[91m━\u001b[0m\u001b[91m━\u001b[0m\u001b[91m━\u001b[0m\u001b[91m━\u001b[0m\u001b[91m━\u001b[0m\u001b[91m━\u001b[0m\u001b[35m━\u001b[0m\u001b[90m━\u001b[0m\u001b[90m━\u001b[0m\u001b[90m━\u001b[0m\u001b[90m━\u001b[0m\u001b[90m━\u001b[0m\u001b[90m━\u001b[0m \u001b[35m1.1 it/s\u001b[0m \u001b[36m \u001b[0m\n",
      "sualization/visualizer.py:831: UserWarning: Warning: The polygon is out of \n",
      "bounds, the drawn polygon may not be in the image\n",
      "  warnings.warn(\n",
      "\u001b[2KInference \u001b[91m━\u001b[0m\u001b[91m━\u001b[0m\u001b[91m━\u001b[0m\u001b[91m━\u001b[0m\u001b[35m━\u001b[0m\u001b[90m━\u001b[0m\u001b[90m━\u001b[0m\u001b[90m━\u001b[0m\u001b[90m━\u001b[0m\u001b[90m━\u001b[0m\u001b[90m━\u001b[0m\u001b[90m━\u001b[0m\u001b[90m━\u001b[0m\u001b[90m━\u001b[0m\u001b[90m━\u001b[0m\u001b[90m━\u001b[0m\u001b[35m━\u001b[0m\u001b[91m━\u001b[0m\u001b[91m━\u001b[0m\u001b[91m━\u001b[0m\u001b[91m━\u001b[0m\u001b[91m━\u001b[0m\u001b[91m━\u001b[0m\u001b[91m━\u001b[0m\u001b[35m━\u001b[0m\u001b[90m━\u001b[0m\u001b[90m━\u001b[0m\u001b[90m━\u001b[0m\u001b[90m━\u001b[0m\u001b[90m━\u001b[0m\u001b[90m━\u001b[0m\u001b[90m━\u001b[0m\u001b[90m━\u001b[0m\u001b[90m━\u001b[0m\u001b[90m━\u001b[0m\u001b[90m━\u001b[0m\u001b[35m━\u001b[0m\u001b[91m━\u001b[0m\u001b[91m━\u001b[0m\u001b[91m━\u001b[0m \u001b[35m0.8 it/s\u001b[0m \u001b[36m \u001b[0m\n",
      "\u001b[?25hresults have been saved at inference_test/results/fasterrcnn_inference\n"
     ]
    }
   ],
   "source": [
    "!python3 image_inference.py inference_test/unseen inference_test/rcnn_config.py --weights rcnn_best.pth --out-dir inference_test/results/fasterrcnn_inference --pred-score-thr 0.3"
   ]
  },
  {
   "cell_type": "markdown",
   "metadata": {},
   "source": [
    "## 5 Center Net"
   ]
  },
  {
   "cell_type": "code",
   "execution_count": 5,
   "metadata": {},
   "outputs": [
    {
     "name": "stdout",
     "output_type": "stream",
     "text": [
      "Loads checkpoint by local backend from path: centerbest.pth\n",
      "04/15 09:32:42 - mmengine - \u001b[5m\u001b[4m\u001b[33mWARNING\u001b[0m - Failed to search registry with scope \"mmdet\" in the \"function\" registry tree. As a workaround, the current \"function\" registry in \"mmengine\" is used to build instance. This may cause unexpected failure when running the built modules. Please check whether \"mmdet\" is a correct scope, or whether the registry is initialized.\n",
      "/home/arnaud/miniconda3/envs/flightscope/lib/python3.8/site-packages/mmengine/visualization/visualizer.py:196: UserWarning: Failed to add <class 'mmengine.visualization.vis_backend.LocalVisBackend'>, please provide the `save_dir` argument.\n",
      "  warnings.warn(f'Failed to add {vis_backend.__class__}, '\n",
      "/home/arnaud/miniconda3/envs/flightscope/lib/python3.8/site-packages/mmengine/visualization/visualizer.py:196: UserWarning: Failed to add <class 'mmengine.visualization.vis_backend.TensorboardVisBackend'>, please provide the `save_dir` argument.\n",
      "  warnings.warn(f'Failed to add {vis_backend.__class__}, '\n",
      "\u001b[2K/home/arnaud/miniconda3/envs/flightscope/lib/python3.8/site-packages/torch/funct\u001b[90m━\u001b[0m\u001b[90m━\u001b[0m\u001b[90m━\u001b[0m\u001b[90m━\u001b[0m\u001b[90m━\u001b[0m\u001b[90m━\u001b[0m\u001b[90m━\u001b[0m\u001b[35m━\u001b[0m\u001b[91m━\u001b[0m\u001b[91m━\u001b[0m\u001b[91m━\u001b[0m\u001b[91m━\u001b[0m\u001b[91m━\u001b[0m\u001b[91m━\u001b[0m\u001b[91m━\u001b[0m\u001b[35m━\u001b[0m\u001b[90m━\u001b[0m\u001b[90m━\u001b[0m\u001b[90m━\u001b[0m\u001b[90m━\u001b[0m\u001b[90m━\u001b[0m\u001b[90m━\u001b[0m\u001b[90m━\u001b[0m\u001b[90m━\u001b[0m\u001b[90m━\u001b[0m\u001b[90m━\u001b[0m\u001b[90m━\u001b[0m\u001b[35m━\u001b[0m\u001b[91m━\u001b[0m\u001b[91m━\u001b[0m\u001b[91m━\u001b[0m\u001b[91m━\u001b[0m\u001b[91m━\u001b[0m  \u001b[36m \u001b[0m\n",
      "ional.py:504: UserWarning: torch.meshgrid: in an upcoming release, it will be \n",
      "required to pass the indexing argument. (Triggered internally at \n",
      "/opt/conda/conda-bld/pytorch_1682343962757/work/aten/src/ATen/native/TensorShape\n",
      ".cpp:3483.)\n",
      "  return _VF.meshgrid(tensors, **kwargs)  # type: ignore[attr-defined]\n",
      "\u001b[2K/home/arnaud/miniconda3/envs/flightscope/lib/python3.8/site-packages/mmengine/vi\u001b[91m━\u001b[0m\u001b[91m━\u001b[0m\u001b[91m━\u001b[0m\u001b[91m━\u001b[0m\u001b[91m━\u001b[0m\u001b[91m━\u001b[0m\u001b[91m━\u001b[0m\u001b[35m━\u001b[0m\u001b[90m━\u001b[0m\u001b[90m━\u001b[0m\u001b[90m━\u001b[0m\u001b[90m━\u001b[0m\u001b[90m━\u001b[0m\u001b[90m━\u001b[0m\u001b[90m━\u001b[0m\u001b[90m━\u001b[0m\u001b[90m━\u001b[0m\u001b[90m━\u001b[0m\u001b[90m━\u001b[0m\u001b[35m━\u001b[0m\u001b[91m━\u001b[0m\u001b[91m━\u001b[0m\u001b[91m━\u001b[0m\u001b[91m━\u001b[0m\u001b[91m━\u001b[0m\u001b[91m━\u001b[0m\u001b[91m━\u001b[0m\u001b[35m━\u001b[0m\u001b[90m━\u001b[0m\u001b[90m━\u001b[0m\u001b[90m━\u001b[0m\u001b[90m━\u001b[0m\u001b[90m━\u001b[0m \u001b[35m1.1 it/s\u001b[0m \u001b[36m \u001b[0m\n",
      "sualization/visualizer.py:760: UserWarning: Warning: The bbox is out of bounds, \n",
      "the drawn bbox may not be in the image\n",
      "  warnings.warn(\n",
      "\u001b[2K/home/arnaud/miniconda3/envs/flightscope/lib/python3.8/site-packages/mmengine/vim━\u001b[0m\u001b[91m━\u001b[0m\u001b[91m━\u001b[0m\u001b[91m━\u001b[0m\u001b[91m━\u001b[0m\u001b[91m━\u001b[0m\u001b[91m━\u001b[0m\u001b[35m━\u001b[0m\u001b[90m━\u001b[0m\u001b[90m━\u001b[0m\u001b[90m━\u001b[0m\u001b[90m━\u001b[0m\u001b[90m━\u001b[0m\u001b[90m━\u001b[0m\u001b[90m━\u001b[0m\u001b[90m━\u001b[0m\u001b[90m━\u001b[0m\u001b[90m━\u001b[0m\u001b[90m━\u001b[0m\u001b[35m━\u001b[0m\u001b[91m━\u001b[0m\u001b[91m━\u001b[0m\u001b[91m━\u001b[0m\u001b[91m━\u001b[0m\u001b[91m━\u001b[0m\u001b[91m━\u001b[0m\u001b[91m━\u001b[0m\u001b[35m━\u001b[0m\u001b[90m━\u001b[0m\u001b[90m━\u001b[0m\u001b[90m━\u001b[0m\u001b[90m━\u001b[0m\u001b[90m━\u001b[0m \u001b[35m1.1 it/s\u001b[0m \u001b[36m \u001b[0m\n",
      "sualization/visualizer.py:831: UserWarning: Warning: The polygon is out of \n",
      "bounds, the drawn polygon may not be in the image\n",
      "  warnings.warn(\n",
      "\u001b[2KInference \u001b[91m━\u001b[0m\u001b[91m━\u001b[0m\u001b[91m━\u001b[0m\u001b[91m━\u001b[0m\u001b[91m━\u001b[0m\u001b[91m━\u001b[0m\u001b[35m━\u001b[0m\u001b[90m━\u001b[0m\u001b[90m━\u001b[0m\u001b[90m━\u001b[0m\u001b[90m━\u001b[0m\u001b[90m━\u001b[0m\u001b[90m━\u001b[0m\u001b[90m━\u001b[0m\u001b[90m━\u001b[0m\u001b[90m━\u001b[0m\u001b[90m━\u001b[0m\u001b[90m━\u001b[0m\u001b[35m━\u001b[0m\u001b[91m━\u001b[0m\u001b[91m━\u001b[0m\u001b[91m━\u001b[0m\u001b[91m━\u001b[0m\u001b[91m━\u001b[0m\u001b[91m━\u001b[0m\u001b[91m━\u001b[0m\u001b[35m━\u001b[0m\u001b[90m━\u001b[0m\u001b[90m━\u001b[0m\u001b[90m━\u001b[0m\u001b[90m━\u001b[0m\u001b[90m━\u001b[0m\u001b[90m━\u001b[0m\u001b[90m━\u001b[0m\u001b[90m━\u001b[0m\u001b[90m━\u001b[0m\u001b[90m━\u001b[0m\u001b[90m━\u001b[0m\u001b[35m━\u001b[0m\u001b[91m━\u001b[0m \u001b[35m0.8 it/s\u001b[0m \u001b[36m \u001b[0m\n",
      "\u001b[?25hresults have been saved at inference_test/results/centernet_inference\n"
     ]
    }
   ],
   "source": [
    "!python3 image_inference.py inference_test/unseen inference_test/center_config.py --weights centerbest.pth --out-dir inference_test/results/centernet_inference --pred-score-thr 0.3"
   ]
  },
  {
   "cell_type": "markdown",
   "metadata": {},
   "source": [
    "## 6 Retina Net"
   ]
  },
  {
   "cell_type": "code",
   "execution_count": 8,
   "metadata": {},
   "outputs": [
    {
     "name": "stdout",
     "output_type": "stream",
     "text": [
      "Loads checkpoint by local backend from path: retinabest.pth\n",
      "04/15 09:35:04 - mmengine - \u001b[5m\u001b[4m\u001b[33mWARNING\u001b[0m - Failed to search registry with scope \"mmdet\" in the \"function\" registry tree. As a workaround, the current \"function\" registry in \"mmengine\" is used to build instance. This may cause unexpected failure when running the built modules. Please check whether \"mmdet\" is a correct scope, or whether the registry is initialized.\n",
      "/home/arnaud/miniconda3/envs/flightscope/lib/python3.8/site-packages/mmengine/visualization/visualizer.py:196: UserWarning: Failed to add <class 'mmengine.visualization.vis_backend.LocalVisBackend'>, please provide the `save_dir` argument.\n",
      "  warnings.warn(f'Failed to add {vis_backend.__class__}, '\n",
      "/home/arnaud/miniconda3/envs/flightscope/lib/python3.8/site-packages/mmengine/visualization/visualizer.py:196: UserWarning: Failed to add <class 'mmengine.visualization.vis_backend.TensorboardVisBackend'>, please provide the `save_dir` argument.\n",
      "  warnings.warn(f'Failed to add {vis_backend.__class__}, '\n",
      "\u001b[2K/home/arnaud/miniconda3/envs/flightscope/lib/python3.8/site-packages/mmengine/vi\u001b[91m━\u001b[0m\u001b[91m━\u001b[0m\u001b[91m━\u001b[0m\u001b[35m━\u001b[0m\u001b[90m━\u001b[0m\u001b[90m━\u001b[0m\u001b[90m━\u001b[0m\u001b[90m━\u001b[0m\u001b[90m━\u001b[0m\u001b[90m━\u001b[0m\u001b[90m━\u001b[0m\u001b[90m━\u001b[0m\u001b[90m━\u001b[0m\u001b[90m━\u001b[0m\u001b[90m━\u001b[0m\u001b[35m━\u001b[0m\u001b[91m━\u001b[0m\u001b[91m━\u001b[0m\u001b[91m━\u001b[0m\u001b[91m━\u001b[0m\u001b[91m━\u001b[0m\u001b[91m━\u001b[0m\u001b[91m━\u001b[0m\u001b[35m━\u001b[0m\u001b[90m━\u001b[0m\u001b[90m━\u001b[0m\u001b[90m━\u001b[0m\u001b[90m━\u001b[0m\u001b[90m━\u001b[0m\u001b[90m━\u001b[0m\u001b[90m━\u001b[0m\u001b[90m━\u001b[0m\u001b[90m━\u001b[0m \u001b[35m0.8 it/s\u001b[0m \u001b[36m \u001b[0m\n",
      "sualization/visualizer.py:760: UserWarning: Warning: The bbox is out of bounds, \n",
      "the drawn bbox may not be in the image\n",
      "  warnings.warn(\n",
      "\u001b[2K/home/arnaud/miniconda3/envs/flightscope/lib/python3.8/site-packages/mmengine/vim━\u001b[0m\u001b[91m━\u001b[0m\u001b[91m━\u001b[0m\u001b[35m━\u001b[0m\u001b[90m━\u001b[0m\u001b[90m━\u001b[0m\u001b[90m━\u001b[0m\u001b[90m━\u001b[0m\u001b[90m━\u001b[0m\u001b[90m━\u001b[0m\u001b[90m━\u001b[0m\u001b[90m━\u001b[0m\u001b[90m━\u001b[0m\u001b[90m━\u001b[0m\u001b[90m━\u001b[0m\u001b[35m━\u001b[0m\u001b[91m━\u001b[0m\u001b[91m━\u001b[0m\u001b[91m━\u001b[0m\u001b[91m━\u001b[0m\u001b[91m━\u001b[0m\u001b[91m━\u001b[0m\u001b[91m━\u001b[0m\u001b[35m━\u001b[0m\u001b[90m━\u001b[0m\u001b[90m━\u001b[0m\u001b[90m━\u001b[0m\u001b[90m━\u001b[0m\u001b[90m━\u001b[0m\u001b[90m━\u001b[0m\u001b[90m━\u001b[0m\u001b[90m━\u001b[0m\u001b[90m━\u001b[0m \u001b[35m0.8 it/s\u001b[0m \u001b[36m \u001b[0m\n",
      "sualization/visualizer.py:831: UserWarning: Warning: The polygon is out of \n",
      "bounds, the drawn polygon may not be in the image\n",
      "  warnings.warn(\n",
      "\u001b[2KInference \u001b[91m━\u001b[0m\u001b[91m━\u001b[0m\u001b[91m━\u001b[0m\u001b[91m━\u001b[0m\u001b[91m━\u001b[0m\u001b[35m━\u001b[0m\u001b[90m━\u001b[0m\u001b[90m━\u001b[0m\u001b[90m━\u001b[0m\u001b[90m━\u001b[0m\u001b[90m━\u001b[0m\u001b[90m━\u001b[0m\u001b[90m━\u001b[0m\u001b[90m━\u001b[0m\u001b[90m━\u001b[0m\u001b[90m━\u001b[0m\u001b[90m━\u001b[0m\u001b[35m━\u001b[0m\u001b[91m━\u001b[0m\u001b[91m━\u001b[0m\u001b[91m━\u001b[0m\u001b[91m━\u001b[0m\u001b[91m━\u001b[0m\u001b[91m━\u001b[0m\u001b[91m━\u001b[0m\u001b[35m━\u001b[0m\u001b[90m━\u001b[0m\u001b[90m━\u001b[0m\u001b[90m━\u001b[0m\u001b[90m━\u001b[0m\u001b[90m━\u001b[0m\u001b[90m━\u001b[0m\u001b[90m━\u001b[0m\u001b[90m━\u001b[0m\u001b[90m━\u001b[0m\u001b[90m━\u001b[0m\u001b[90m━\u001b[0m\u001b[35m━\u001b[0m\u001b[91m━\u001b[0m\u001b[91m━\u001b[0m \u001b[35m0.8 it/s\u001b[0m \u001b[36m \u001b[0m\n",
      "\u001b[?25hresults have been saved at inference_test/results/retinanet_inference\n"
     ]
    }
   ],
   "source": [
    "!python3 image_inference.py inference_test/unseen inference_test/retina_config.py --weights retinabest.pth --out-dir inference_test/results/retinanet_inference --pred-score-thr 0.3"
   ]
  },
  {
   "cell_type": "markdown",
   "metadata": {},
   "source": [
    "## 7 DETR"
   ]
  },
  {
   "cell_type": "code",
   "execution_count": 9,
   "metadata": {},
   "outputs": [
    {
     "name": "stdout",
     "output_type": "stream",
     "text": [
      "Loads checkpoint by local backend from path: detrbest.pth\n",
      "04/15 09:38:48 - mmengine - \u001b[5m\u001b[4m\u001b[33mWARNING\u001b[0m - Failed to search registry with scope \"mmdet\" in the \"function\" registry tree. As a workaround, the current \"function\" registry in \"mmengine\" is used to build instance. This may cause unexpected failure when running the built modules. Please check whether \"mmdet\" is a correct scope, or whether the registry is initialized.\n",
      "/home/arnaud/miniconda3/envs/flightscope/lib/python3.8/site-packages/mmengine/visualization/visualizer.py:196: UserWarning: Failed to add <class 'mmengine.visualization.vis_backend.LocalVisBackend'>, please provide the `save_dir` argument.\n",
      "  warnings.warn(f'Failed to add {vis_backend.__class__}, '\n",
      "/home/arnaud/miniconda3/envs/flightscope/lib/python3.8/site-packages/mmengine/visualization/visualizer.py:196: UserWarning: Failed to add <class 'mmengine.visualization.vis_backend.TensorboardVisBackend'>, please provide the `save_dir` argument.\n",
      "  warnings.warn(f'Failed to add {vis_backend.__class__}, '\n",
      "\u001b[2K/home/arnaud/miniconda3/envs/flightscope/lib/python3.8/site-packages/mmengine/vi\u001b[90m━\u001b[0m\u001b[35m━\u001b[0m\u001b[91m━\u001b[0m\u001b[91m━\u001b[0m\u001b[91m━\u001b[0m\u001b[91m━\u001b[0m\u001b[91m━\u001b[0m\u001b[91m━\u001b[0m\u001b[91m━\u001b[0m\u001b[35m━\u001b[0m\u001b[90m━\u001b[0m\u001b[90m━\u001b[0m\u001b[90m━\u001b[0m\u001b[90m━\u001b[0m\u001b[90m━\u001b[0m\u001b[90m━\u001b[0m\u001b[90m━\u001b[0m\u001b[90m━\u001b[0m\u001b[90m━\u001b[0m\u001b[90m━\u001b[0m\u001b[90m━\u001b[0m\u001b[35m━\u001b[0m\u001b[91m━\u001b[0m\u001b[91m━\u001b[0m\u001b[91m━\u001b[0m\u001b[91m━\u001b[0m\u001b[91m━\u001b[0m\u001b[91m━\u001b[0m\u001b[91m━\u001b[0m\u001b[35m━\u001b[0m\u001b[90m━\u001b[0m\u001b[90m━\u001b[0m\u001b[90m━\u001b[0m \u001b[35m1.1 it/s\u001b[0m \u001b[36m \u001b[0m\n",
      "sualization/visualizer.py:760: UserWarning: Warning: The bbox is out of bounds, \n",
      "the drawn bbox may not be in the image\n",
      "  warnings.warn(\n",
      "\u001b[2K/home/arnaud/miniconda3/envs/flightscope/lib/python3.8/site-packages/mmengine/vim━\u001b[0m\u001b[35m━\u001b[0m\u001b[91m━\u001b[0m\u001b[91m━\u001b[0m\u001b[91m━\u001b[0m\u001b[91m━\u001b[0m\u001b[91m━\u001b[0m\u001b[91m━\u001b[0m\u001b[91m━\u001b[0m\u001b[35m━\u001b[0m\u001b[90m━\u001b[0m\u001b[90m━\u001b[0m\u001b[90m━\u001b[0m\u001b[90m━\u001b[0m\u001b[90m━\u001b[0m\u001b[90m━\u001b[0m\u001b[90m━\u001b[0m\u001b[90m━\u001b[0m\u001b[90m━\u001b[0m\u001b[90m━\u001b[0m\u001b[90m━\u001b[0m\u001b[35m━\u001b[0m\u001b[91m━\u001b[0m\u001b[91m━\u001b[0m\u001b[91m━\u001b[0m\u001b[91m━\u001b[0m\u001b[91m━\u001b[0m\u001b[91m━\u001b[0m\u001b[91m━\u001b[0m\u001b[35m━\u001b[0m\u001b[90m━\u001b[0m\u001b[90m━\u001b[0m\u001b[90m━\u001b[0m \u001b[35m1.1 it/s\u001b[0m \u001b[36m \u001b[0m\n",
      "sualization/visualizer.py:831: UserWarning: Warning: The polygon is out of \n",
      "bounds, the drawn polygon may not be in the image\n",
      "  warnings.warn(\n",
      "\u001b[2KInference \u001b[90m━\u001b[0m\u001b[90m━\u001b[0m\u001b[90m━\u001b[0m\u001b[90m━\u001b[0m\u001b[90m━\u001b[0m\u001b[35m━\u001b[0m\u001b[91m━\u001b[0m\u001b[91m━\u001b[0m\u001b[91m━\u001b[0m\u001b[91m━\u001b[0m\u001b[91m━\u001b[0m\u001b[91m━\u001b[0m\u001b[91m━\u001b[0m\u001b[35m━\u001b[0m\u001b[90m━\u001b[0m\u001b[90m━\u001b[0m\u001b[90m━\u001b[0m\u001b[90m━\u001b[0m\u001b[90m━\u001b[0m\u001b[90m━\u001b[0m\u001b[90m━\u001b[0m\u001b[90m━\u001b[0m\u001b[90m━\u001b[0m\u001b[90m━\u001b[0m\u001b[90m━\u001b[0m\u001b[35m━\u001b[0m\u001b[91m━\u001b[0m\u001b[91m━\u001b[0m\u001b[91m━\u001b[0m\u001b[91m━\u001b[0m\u001b[91m━\u001b[0m\u001b[91m━\u001b[0m\u001b[91m━\u001b[0m\u001b[35m━\u001b[0m\u001b[90m━\u001b[0m\u001b[90m━\u001b[0m\u001b[90m━\u001b[0m\u001b[90m━\u001b[0m\u001b[90m━\u001b[0m\u001b[90m━\u001b[0m \u001b[35m0.8 it/s\u001b[0m \u001b[36m \u001b[0m\n",
      "\u001b[?25hresults have been saved at inference_test/results/detr_inference\n"
     ]
    }
   ],
   "source": [
    "!python3 image_inference.py inference_test/unseen inference_test/detr_config.py --weights detrbest.pth --out-dir inference_test/results/detr_inference --pred-score-thr 0.3"
   ]
  },
  {
   "cell_type": "markdown",
   "metadata": {},
   "source": [
    "## 8 RTMDET"
   ]
  },
  {
   "cell_type": "code",
   "execution_count": 12,
   "metadata": {},
   "outputs": [
    {
     "name": "stdout",
     "output_type": "stream",
     "text": [
      "Loads checkpoint by local backend from path: rtmdetbest.pth\n",
      "04/15 09:50:08 - mmengine - \u001b[5m\u001b[4m\u001b[33mWARNING\u001b[0m - Failed to search registry with scope \"mmdet\" in the \"function\" registry tree. As a workaround, the current \"function\" registry in \"mmengine\" is used to build instance. This may cause unexpected failure when running the built modules. Please check whether \"mmdet\" is a correct scope, or whether the registry is initialized.\n",
      "/home/arnaud/miniconda3/envs/flightscope/lib/python3.8/site-packages/mmengine/visualization/visualizer.py:196: UserWarning: Failed to add <class 'mmengine.visualization.vis_backend.LocalVisBackend'>, please provide the `save_dir` argument.\n",
      "  warnings.warn(f'Failed to add {vis_backend.__class__}, '\n",
      "/home/arnaud/miniconda3/envs/flightscope/lib/python3.8/site-packages/mmengine/visualization/visualizer.py:196: UserWarning: Failed to add <class 'mmengine.visualization.vis_backend.TensorboardVisBackend'>, please provide the `save_dir` argument.\n",
      "  warnings.warn(f'Failed to add {vis_backend.__class__}, '\n",
      "\u001b[2K/home/arnaud/miniconda3/envs/flightscope/lib/python3.8/site-packages/torch/funct\u001b[90m━\u001b[0m\u001b[90m━\u001b[0m\u001b[90m━\u001b[0m\u001b[90m━\u001b[0m\u001b[90m━\u001b[0m\u001b[90m━\u001b[0m\u001b[90m━\u001b[0m\u001b[90m━\u001b[0m\u001b[90m━\u001b[0m\u001b[35m━\u001b[0m\u001b[91m━\u001b[0m\u001b[91m━\u001b[0m\u001b[91m━\u001b[0m\u001b[91m━\u001b[0m\u001b[91m━\u001b[0m\u001b[91m━\u001b[0m\u001b[91m━\u001b[0m\u001b[35m━\u001b[0m\u001b[90m━\u001b[0m\u001b[90m━\u001b[0m\u001b[90m━\u001b[0m\u001b[90m━\u001b[0m\u001b[90m━\u001b[0m\u001b[90m━\u001b[0m\u001b[90m━\u001b[0m\u001b[90m━\u001b[0m\u001b[90m━\u001b[0m\u001b[90m━\u001b[0m\u001b[90m━\u001b[0m\u001b[35m━\u001b[0m\u001b[91m━\u001b[0m\u001b[91m━\u001b[0m\u001b[91m━\u001b[0m  \u001b[36m \u001b[0m\n",
      "ional.py:504: UserWarning: torch.meshgrid: in an upcoming release, it will be \n",
      "required to pass the indexing argument. (Triggered internally at \n",
      "/opt/conda/conda-bld/pytorch_1682343962757/work/aten/src/ATen/native/TensorShape\n",
      ".cpp:3483.)\n",
      "  return _VF.meshgrid(tensors, **kwargs)  # type: ignore[attr-defined]\n",
      "\u001b[2K/home/arnaud/miniconda3/envs/flightscope/lib/python3.8/site-packages/mmengine/vi\u001b[91m━\u001b[0m\u001b[91m━\u001b[0m\u001b[91m━\u001b[0m\u001b[91m━\u001b[0m\u001b[91m━\u001b[0m\u001b[91m━\u001b[0m\u001b[91m━\u001b[0m\u001b[35m━\u001b[0m\u001b[90m━\u001b[0m\u001b[90m━\u001b[0m\u001b[90m━\u001b[0m\u001b[90m━\u001b[0m\u001b[90m━\u001b[0m\u001b[90m━\u001b[0m\u001b[90m━\u001b[0m\u001b[90m━\u001b[0m\u001b[90m━\u001b[0m\u001b[90m━\u001b[0m\u001b[90m━\u001b[0m\u001b[35m━\u001b[0m\u001b[91m━\u001b[0m\u001b[91m━\u001b[0m\u001b[91m━\u001b[0m\u001b[91m━\u001b[0m\u001b[91m━\u001b[0m\u001b[91m━\u001b[0m\u001b[91m━\u001b[0m\u001b[35m━\u001b[0m\u001b[90m━\u001b[0m\u001b[90m━\u001b[0m\u001b[90m━\u001b[0m\u001b[90m━\u001b[0m\u001b[90m━\u001b[0m \u001b[35m0.9 it/s\u001b[0m \u001b[36m \u001b[0m\n",
      "sualization/visualizer.py:760: UserWarning: Warning: The bbox is out of bounds, \n",
      "the drawn bbox may not be in the image\n",
      "  warnings.warn(\n",
      "\u001b[2K/home/arnaud/miniconda3/envs/flightscope/lib/python3.8/site-packages/mmengine/vim━\u001b[0m\u001b[91m━\u001b[0m\u001b[91m━\u001b[0m\u001b[91m━\u001b[0m\u001b[91m━\u001b[0m\u001b[91m━\u001b[0m\u001b[91m━\u001b[0m\u001b[35m━\u001b[0m\u001b[90m━\u001b[0m\u001b[90m━\u001b[0m\u001b[90m━\u001b[0m\u001b[90m━\u001b[0m\u001b[90m━\u001b[0m\u001b[90m━\u001b[0m\u001b[90m━\u001b[0m\u001b[90m━\u001b[0m\u001b[90m━\u001b[0m\u001b[90m━\u001b[0m\u001b[90m━\u001b[0m\u001b[35m━\u001b[0m\u001b[91m━\u001b[0m\u001b[91m━\u001b[0m\u001b[91m━\u001b[0m\u001b[91m━\u001b[0m\u001b[91m━\u001b[0m\u001b[91m━\u001b[0m\u001b[91m━\u001b[0m\u001b[35m━\u001b[0m\u001b[90m━\u001b[0m\u001b[90m━\u001b[0m\u001b[90m━\u001b[0m\u001b[90m━\u001b[0m\u001b[90m━\u001b[0m \u001b[35m0.9 it/s\u001b[0m \u001b[36m \u001b[0m\n",
      "sualization/visualizer.py:831: UserWarning: Warning: The polygon is out of \n",
      "bounds, the drawn polygon may not be in the image\n",
      "  warnings.warn(\n",
      "\u001b[2KInference \u001b[90m━\u001b[0m\u001b[35m━\u001b[0m\u001b[91m━\u001b[0m\u001b[91m━\u001b[0m\u001b[91m━\u001b[0m\u001b[91m━\u001b[0m\u001b[91m━\u001b[0m\u001b[91m━\u001b[0m\u001b[91m━\u001b[0m\u001b[35m━\u001b[0m\u001b[90m━\u001b[0m\u001b[90m━\u001b[0m\u001b[90m━\u001b[0m\u001b[90m━\u001b[0m\u001b[90m━\u001b[0m\u001b[90m━\u001b[0m\u001b[90m━\u001b[0m\u001b[90m━\u001b[0m\u001b[90m━\u001b[0m\u001b[90m━\u001b[0m\u001b[90m━\u001b[0m\u001b[35m━\u001b[0m\u001b[91m━\u001b[0m\u001b[91m━\u001b[0m\u001b[91m━\u001b[0m\u001b[91m━\u001b[0m\u001b[91m━\u001b[0m\u001b[91m━\u001b[0m\u001b[91m━\u001b[0m\u001b[35m━\u001b[0m\u001b[90m━\u001b[0m\u001b[90m━\u001b[0m\u001b[90m━\u001b[0m\u001b[90m━\u001b[0m\u001b[90m━\u001b[0m\u001b[90m━\u001b[0m\u001b[90m━\u001b[0m\u001b[90m━\u001b[0m\u001b[90m━\u001b[0m\u001b[90m━\u001b[0m \u001b[35m0.8 it/s\u001b[0m \u001b[36m \u001b[0m\n",
      "\u001b[?25hresults have been saved at inference_test/results/rtmdet_inference\n"
     ]
    }
   ],
   "source": [
    "!python3 image_inference.py inference_test/unseen inference_test/rtmdet_config.py --weights rtmdetbest.pth --out-dir inference_test/results/rtmdet_inference --pred-score-thr 0.3"
   ]
  },
  {
   "cell_type": "markdown",
   "metadata": {},
   "source": [
    "### Parse results\n",
    "helper functions"
   ]
  },
  {
   "cell_type": "code",
   "execution_count": null,
   "metadata": {},
   "outputs": [],
   "source": [
    "import os, ast\n",
    "from glob import glob \n",
    "from PIL import ImageFont, ImageDraw, Image"
   ]
  },
  {
   "cell_type": "code",
   "execution_count": null,
   "metadata": {},
   "outputs": [],
   "source": [
    "def parse_subfolder_names(folder_path):\n",
    "    subfolders = [f.name for f in os.scandir(folder_path) if f.is_dir()]\n",
    "    return subfolders\n",
    "\n",
    "folder_path = \"./inference_test/results/\"\n",
    "subfolder_names = parse_subfolder_names(folder_path)\n",
    "print(\"Subfolder names:\", subfolder_names)\n"
   ]
  },
  {
   "cell_type": "markdown",
   "metadata": {},
   "source": [
    "All the models except yolov5"
   ]
  },
  {
   "cell_type": "code",
   "execution_count": null,
   "metadata": {},
   "outputs": [
    {
     "name": "stdout",
     "output_type": "stream",
     "text": [
      "centernet\n",
      "detr\n",
      "fasterrcnn\n",
      "retinanet\n",
      "rtmdet\n",
      "ssd\n",
      "yolov5\n",
      "yolov8\n"
     ]
    }
   ],
   "source": [
    "folder_path = \"./inference_test/results/\"\n",
    "\n",
    "for model in sorted([f.name for f in os.scandir(folder_path) if f.is_dir()]):\n",
    "    print(model[:-10])\n"
   ]
  },
  {
   "cell_type": "markdown",
   "metadata": {},
   "source": [
    "We need to reuse the annotations (.json mdmetects, .txt yolos) but not the images.  "
   ]
  },
  {
   "cell_type": "code",
   "execution_count": null,
   "metadata": {},
   "outputs": [
    {
     "name": "stdout",
     "output_type": "stream",
     "text": [
      "Result : inference_test/results/yolov5_inference/predict9/labels/inptest.txt\n",
      "Result : inference_test/results/yolov8_inference/predict6/labels/inptest.txt\n"
     ]
    }
   ],
   "source": [
    "folder_path = \"./inference_test/results/\"\n",
    "\n",
    "for model in sorted([f.name for f in os.scandir(folder_path) if f.is_dir()]):\n",
    "    # print(model[:-10])\n",
    "    if model[:4] == \"yolo\":\n",
    "        exps = sorted(glob(f\"inference_test/results/{model}/*\", recursive = True))\n",
    "        annot_file = glob(f\"{exps[-1]}/labels/\" + \"*.txt\")[0]\n",
    "        print(\"Result : \" + annot_file)\n",
    "        # print([i.name for i in os.scandir(folder_path + model + \"/predict/labels/\")])\n"
   ]
  },
  {
   "cell_type": "code",
   "execution_count": null,
   "metadata": {},
   "outputs": [],
   "source": [
    "def process_txtfile(filename):\n",
    "    segments = []\n",
    "    confs = []\n",
    "    with open(filename, 'r') as file:\n",
    "        for line in file:\n",
    "            # print(line)\n",
    "            line = line.strip().split(' ')\n",
    "            cls = int(line[0])\n",
    "            conf = line[5]\n",
    "            x, y, w, h = map(float, line[1:5])\n",
    "            x_min = x - (w / 2)\n",
    "            y_min = y - (h / 2)\n",
    "            x_max = x + (w / 2)\n",
    "            y_max = y + (h / 2)\n",
    "            segment = [x_min, y_min, x_max, y_max]\n",
    "            segments.append(segment)\n",
    "            confs.append(conf)\n",
    "\n",
    "    return segments, confs\n",
    "\n",
    "segments, confs = process_txtfile(annot_file)\n",
    "# segments"
   ]
  },
  {
   "cell_type": "code",
   "execution_count": null,
   "metadata": {},
   "outputs": [],
   "source": [
    "folder_path = \"./inference_test/results/\"\n",
    "image_path= \"inptest.jpg\"\n",
    "\n",
    "#annot style\n",
    "lw=8\n",
    "txt_color=(255, 255, 255)\n",
    "yellow=(255, 255, 128)\n",
    "black = (0, 0, 0)\n",
    "font = ImageFont.truetype(font=\"Pillow/Tests/fonts/FreeMono.ttf\", size=48)\n",
    "\n",
    "for model in sorted([f.name for f in os.scandir(folder_path) if f.is_dir()]):\n",
    "    # print(model[:-10])\n",
    "    if model[:4] == \"yolo\":\n",
    "        exps = sorted(glob(f\"inference_test/results/{model}/*\", recursive = True))\n",
    "        annot_file = glob(f\"{exps[-1]}/labels/\" + \"*.txt\")[0]\n",
    "        print(\"Result : \" + annot_file)\n",
    "\n",
    "        segments, confs = process_txtfile(annot_file)\n",
    "        im = Image.open(image_path)\n",
    "        width, height = im.size\n",
    "        imdraw = ImageDraw.Draw(im)\n",
    "\n",
    "        for conf, box in  zip(confs, segments): \n",
    "            conf_r = f\"{float(conf):.2f}\" # round conf\n",
    "\n",
    "            box = [box[0]*width, box[1]*height, box[2]*width, box[3]*height, ]\n",
    "            imdraw.rectangle(box, width=3, outline=black)  # box\n",
    "\n",
    "            # label\n",
    "            w, h = font.getbbox(conf_r)[2:4] # text w, h\n",
    "            imdraw.rectangle([box[0], box[1]-h, box[0]+w+1, box[1]+1], width=3, fill = black)  # box\n",
    "            imdraw.text([box[0], box[1]-h], conf_r, fill=yellow, font=font)\n",
    "\n",
    "        display(im.resize((int(im.width/6), int(im.height/6))))\n",
    "\n"
   ]
  },
  {
   "cell_type": "markdown",
   "metadata": {},
   "source": [
    "mmdetect"
   ]
  },
  {
   "cell_type": "code",
   "execution_count": null,
   "metadata": {},
   "outputs": [],
   "source": [
    "folder_path = \"./inference_test/results/\"\n",
    "image_path= \"inptest.jpg\"\n",
    "\n",
    "for model in sorted([f.name for f in os.scandir(folder_path) if f.is_dir()]):\n",
    "    # print(model[:-10])\n",
    "    if model[:4] != \"yolo\":\n",
    "        exps = sorted(glob(f\"inference_test/results/{model}/*\", recursive = True))\n",
    "        annot_file = glob(f\"{exps[0]}/{image_path[:-4]}.json\")\n",
    "        print(annot_file)\n",
    "        # print(\"Result : \" + annot_file)\n",
    "        # print([i.name for i in os.scandir(folder_path + model + \"/predict/labels/\")])\n"
   ]
  },
  {
   "cell_type": "code",
   "execution_count": null,
   "metadata": {},
   "outputs": [],
   "source": [
    "def process_jsonfile(filename):\n",
    "    with open(filename, 'r') as file:\n",
    "        line = file.readline().strip() \n",
    "        dic = ast.literal_eval(line)\n",
    "        segments = dic['bboxes']\n",
    "        confs = dic['scores']\n",
    "        # labels = dic['labels']\n",
    "\n",
    "    return segments, confs"
   ]
  },
  {
   "cell_type": "code",
   "execution_count": null,
   "metadata": {},
   "outputs": [],
   "source": [
    "folder_path = \"./inference_test/results/\"\n",
    "image_path= \"inptest.jpg\"\n",
    "\n",
    "#annot style\n",
    "lw=8\n",
    "txt_color=(255, 255, 255)\n",
    "yellow=(255, 255, 128)\n",
    "black = (0, 0, 0)\n",
    "font = ImageFont.truetype(font=\"Pillow/Tests/fonts/FreeMono.ttf\", size=48)\n",
    "\n",
    "for model in sorted([f.name for f in os.scandir(folder_path) if f.is_dir()]):\n",
    "    # print(model[:-10])\n",
    "    if model[:4] != \"yolo\":\n",
    "        exps = sorted(glob(f\"inference_test/results/{model}/*\", recursive = True))\n",
    "        annot_file = glob(f\"{exps[0]}/{image_path[:-4]}.json\")[0]\n",
    "        print(\"Result : \" + annot_file)\n",
    "\n",
    "        segments, confs = process_jsonfile(annot_file)\n",
    "        im = Image.open(image_path)\n",
    "        width, height = im.size\n",
    "        imdraw = ImageDraw.Draw(im)\n",
    "\n",
    "        for conf, box in zip(confs, segments): \n",
    "            conf_r = f\"{float(conf):.2f}\" # round conf\n",
    "\n",
    "            imdraw.rectangle(box, width=3, outline=black)  # box\n",
    "            # label\n",
    "            w, h = font.getbbox(conf_r)[2:4] # text w, h\n",
    "            imdraw.rectangle([box[0], box[1]-h, box[0]+w+1, box[1]+1], width=3, fill = black)  # box\n",
    "            imdraw.text([box[0], box[1]-h], conf_r, fill=yellow, font=font)\n",
    "\n",
    "        display(im.resize((int(im.width/6), int(im.height/6))))\n",
    "\n"
   ]
  },
  {
   "cell_type": "markdown",
   "metadata": {},
   "source": [
    "both"
   ]
  },
  {
   "cell_type": "code",
   "execution_count": null,
   "metadata": {},
   "outputs": [],
   "source": [
    "def process_jsonfile(filename):\n",
    "    with open(filename, 'r') as file:\n",
    "        line = file.readline().strip() \n",
    "        dic = ast.literal_eval(line)\n",
    "        segments = dic['bboxes']\n",
    "        confs = dic['scores']\n",
    "        # labels = dic['labels']\n",
    "\n",
    "    return segments, confs"
   ]
  },
  {
   "cell_type": "code",
   "execution_count": null,
   "metadata": {},
   "outputs": [],
   "source": [
    "folder_path = \"./inference_test/results/\"\n",
    "image_path= \"inptest.jpg\"\n",
    "\n",
    "#annot style\n",
    "lw=8\n",
    "txt_color=(255, 255, 255)\n",
    "yellow=(255, 255, 128)\n",
    "black = (0, 0, 0)\n",
    "font = ImageFont.truetype(font=\"Pillow/Tests/fonts/FreeMono.ttf\", size=48)\n",
    "\n",
    "for model in sorted([f.name for f in os.scandir(folder_path) if f.is_dir()]):\n",
    "\n",
    "    im = Image.open(image_path)\n",
    "    width, height = im.size\n",
    "    imdraw = ImageDraw.Draw(im)\n",
    "\n",
    "    exps = sorted(glob(f\"inference_test/results/{model}/*\", recursive = True))\n",
    "\n",
    "    if model[:4] == \"yolo\":\n",
    "        annot_file = glob(f\"{exps[-1]}/labels/\" + \"*.txt\")[0]\n",
    "        print(\"Result : \" + annot_file)\n",
    "        segments, confs = process_txtfile(annot_file)\n",
    "        \n",
    "    else:\n",
    "        annot_file = glob(f\"{exps[0]}/{image_path[:-4]}.json\")[0]\n",
    "        print(\"Result : \" + annot_file)\n",
    "        segments, confs = process_jsonfile(annot_file)\n",
    "\n",
    "    for conf, box in  zip(confs, segments): \n",
    "        conf_r = f\"{float(conf):.2f}\" # round conf\n",
    "\n",
    "        if model[:4] == \"yolo\": \n",
    "            box = [box[0]*width, box[1]*height, box[2]*width, box[3]*height]\n",
    "        imdraw.rectangle(box, width=3, outline=black)  # box\n",
    "\n",
    "        # label\n",
    "        w, h = font.getbbox(conf_r)[2:4] # text w, h\n",
    "        imdraw.rectangle([box[0], box[1]-h, box[0]+w+1, box[1]+1], width=3, fill = black)  # box\n",
    "        imdraw.text([box[0], box[1]-h], conf_r, fill=yellow, font=font)\n",
    "\n",
    "    display(im.resize((int(im.width/2), int(im.height/2))))\n",
    "\n"
   ]
  }
 ],
 "metadata": {
  "kernelspec": {
   "display_name": "flightscope",
   "language": "python",
   "name": "python3"
  },
  "language_info": {
   "codemirror_mode": {
    "name": "ipython",
    "version": 3
   },
   "file_extension": ".py",
   "mimetype": "text/x-python",
   "name": "python",
   "nbconvert_exporter": "python",
   "pygments_lexer": "ipython3",
   "version": "3.8.19"
  }
 },
 "nbformat": 4,
 "nbformat_minor": 2
}
