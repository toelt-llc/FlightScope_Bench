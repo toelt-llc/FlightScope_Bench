{
 "cells": [
  {
   "attachments": {},
   "cell_type": "markdown",
   "metadata": {},
   "source": [
    "# Algorithms gathering\n",
    "\n",
    "Let's start by collecting the set of the object detection algorithms"
   ]
  },
  {
   "cell_type": "code",
   "execution_count": 1,
   "metadata": {},
   "outputs": [],
   "source": [
    "!test -d \"./algorithms\" && echo Exists || mkdir algorithms"
   ]
  },
  {
   "attachments": {},
   "cell_type": "markdown",
   "metadata": {},
   "source": [
    "# ************************************************************************ #"
   ]
  },
  {
   "attachments": {},
   "cell_type": "markdown",
   "metadata": {},
   "source": [
    "## You only see once"
   ]
  },
  {
   "attachments": {},
   "cell_type": "markdown",
   "metadata": {},
   "source": [
    "### YOLOv5\n",
    "5th version:"
   ]
  },
  {
   "cell_type": "code",
   "execution_count": 2,
   "metadata": {},
   "outputs": [
    {
     "name": "stdout",
     "output_type": "stream",
     "text": [
      "Cloning into 'yolov5'...\n",
      "remote: Enumerating objects: 16283, done.\u001b[K\n",
      "remote: Counting objects: 100% (180/180), done.\u001b[K\n",
      "remote: Compressing objects: 100% (147/147), done.\u001b[K\n",
      "remote: Total 16283 (delta 76), reused 93 (delta 33), pack-reused 16103\u001b[K\n",
      "Receiving objects: 100% (16283/16283), 15.10 MiB | 24.55 MiB/s, done.\n",
      "Resolving deltas: 100% (11111/11111), done.\n"
     ]
    }
   ],
   "source": [
    "!test -d \"./algorithms/yolov5\" && echo Exists || cd algorithms && git clone https://github.com/ultralytics/yolov5.git"
   ]
  },
  {
   "attachments": {},
   "cell_type": "markdown",
   "metadata": {},
   "source": [
    "#### Installing dependencies"
   ]
  },
  {
   "cell_type": "code",
   "execution_count": 3,
   "metadata": {},
   "outputs": [
    {
     "name": "stdout",
     "output_type": "stream",
     "text": [
      "Requirement already satisfied: gitpython>=3.1.30 in /home/safouane/.local/lib/python3.8/site-packages (from -r algorithms/yolov5/requirements.txt (line 5)) (3.1.31)\n",
      "Requirement already satisfied: matplotlib>=3.3 in /home/safouane/.local/lib/python3.8/site-packages (from -r algorithms/yolov5/requirements.txt (line 6)) (3.7.1)\n",
      "Requirement already satisfied: numpy>=1.22.2 in /home/safouane/miniconda3/envs/openmmlab/lib/python3.8/site-packages (from -r algorithms/yolov5/requirements.txt (line 7)) (1.24.3)\n",
      "Requirement already satisfied: opencv-python>=4.1.1 in /home/safouane/miniconda3/envs/openmmlab/lib/python3.8/site-packages (from -r algorithms/yolov5/requirements.txt (line 8)) (4.9.0.80)\n",
      "Collecting Pillow>=10.0.1 (from -r algorithms/yolov5/requirements.txt (line 9))\n",
      "  Downloading pillow-10.2.0-cp38-cp38-manylinux_2_28_x86_64.whl.metadata (9.7 kB)\n",
      "Requirement already satisfied: psutil in /home/safouane/.local/lib/python3.8/site-packages (from -r algorithms/yolov5/requirements.txt (line 10)) (5.9.5)\n",
      "Requirement already satisfied: PyYAML>=5.3.1 in /home/safouane/.local/lib/python3.8/site-packages (from -r algorithms/yolov5/requirements.txt (line 11)) (6.0)\n",
      "Requirement already satisfied: requests>=2.23.0 in /home/safouane/miniconda3/envs/openmmlab/lib/python3.8/site-packages (from -r algorithms/yolov5/requirements.txt (line 12)) (2.28.2)\n",
      "Requirement already satisfied: scipy>=1.4.1 in /home/safouane/.local/lib/python3.8/site-packages (from -r algorithms/yolov5/requirements.txt (line 13)) (1.9.1)\n",
      "Requirement already satisfied: thop>=0.1.1 in /home/safouane/.local/lib/python3.8/site-packages (from -r algorithms/yolov5/requirements.txt (line 14)) (0.1.1.post2209072238)\n",
      "Requirement already satisfied: torch>=1.8.0 in /home/safouane/miniconda3/envs/openmmlab/lib/python3.8/site-packages (from -r algorithms/yolov5/requirements.txt (line 15)) (2.0.1)\n",
      "Requirement already satisfied: torchvision>=0.9.0 in /home/safouane/miniconda3/envs/openmmlab/lib/python3.8/site-packages (from -r algorithms/yolov5/requirements.txt (line 16)) (0.15.2)\n",
      "Requirement already satisfied: tqdm>=4.64.0 in /home/safouane/.local/lib/python3.8/site-packages (from -r algorithms/yolov5/requirements.txt (line 17)) (4.65.0)\n",
      "Collecting ultralytics>=8.0.232 (from -r algorithms/yolov5/requirements.txt (line 18))\n",
      "  Downloading ultralytics-8.1.0-py3-none-any.whl.metadata (39 kB)\n",
      "Requirement already satisfied: pandas>=1.1.4 in /home/safouane/.local/lib/python3.8/site-packages (from -r algorithms/yolov5/requirements.txt (line 27)) (1.5.3)\n",
      "Requirement already satisfied: seaborn>=0.11.0 in /home/safouane/.local/lib/python3.8/site-packages (from -r algorithms/yolov5/requirements.txt (line 28)) (0.12.2)\n",
      "Collecting setuptools>=65.5.1 (from -r algorithms/yolov5/requirements.txt (line 42))\n",
      "  Downloading setuptools-69.0.3-py3-none-any.whl.metadata (6.3 kB)\n",
      "Requirement already satisfied: gitdb<5,>=4.0.1 in /home/safouane/.local/lib/python3.8/site-packages (from gitpython>=3.1.30->-r algorithms/yolov5/requirements.txt (line 5)) (4.0.10)\n",
      "Requirement already satisfied: contourpy>=1.0.1 in /home/safouane/.local/lib/python3.8/site-packages (from matplotlib>=3.3->-r algorithms/yolov5/requirements.txt (line 6)) (1.0.7)\n",
      "Requirement already satisfied: cycler>=0.10 in /home/safouane/.local/lib/python3.8/site-packages (from matplotlib>=3.3->-r algorithms/yolov5/requirements.txt (line 6)) (0.10.0)\n",
      "Requirement already satisfied: fonttools>=4.22.0 in /home/safouane/.local/lib/python3.8/site-packages (from matplotlib>=3.3->-r algorithms/yolov5/requirements.txt (line 6)) (4.39.3)\n",
      "Requirement already satisfied: kiwisolver>=1.0.1 in /home/safouane/.local/lib/python3.8/site-packages (from matplotlib>=3.3->-r algorithms/yolov5/requirements.txt (line 6)) (1.4.4)\n",
      "Requirement already satisfied: packaging>=20.0 in /home/safouane/.local/lib/python3.8/site-packages (from matplotlib>=3.3->-r algorithms/yolov5/requirements.txt (line 6)) (23.1)\n",
      "Requirement already satisfied: pyparsing>=2.3.1 in /home/safouane/.local/lib/python3.8/site-packages (from matplotlib>=3.3->-r algorithms/yolov5/requirements.txt (line 6)) (2.4.7)\n",
      "Requirement already satisfied: python-dateutil>=2.7 in /home/safouane/.local/lib/python3.8/site-packages (from matplotlib>=3.3->-r algorithms/yolov5/requirements.txt (line 6)) (2.8.2)\n",
      "Requirement already satisfied: importlib-resources>=3.2.0 in /home/safouane/.local/lib/python3.8/site-packages (from matplotlib>=3.3->-r algorithms/yolov5/requirements.txt (line 6)) (5.12.0)\n",
      "Requirement already satisfied: charset-normalizer<4,>=2 in /home/safouane/miniconda3/envs/openmmlab/lib/python3.8/site-packages (from requests>=2.23.0->-r algorithms/yolov5/requirements.txt (line 12)) (2.0.4)\n",
      "Requirement already satisfied: idna<4,>=2.5 in /home/safouane/.local/lib/python3.8/site-packages (from requests>=2.23.0->-r algorithms/yolov5/requirements.txt (line 12)) (2.10)\n",
      "Requirement already satisfied: urllib3<1.27,>=1.21.1 in /home/safouane/.local/lib/python3.8/site-packages (from requests>=2.23.0->-r algorithms/yolov5/requirements.txt (line 12)) (1.26.15)\n",
      "Requirement already satisfied: certifi>=2017.4.17 in /home/safouane/.local/lib/python3.8/site-packages (from requests>=2.23.0->-r algorithms/yolov5/requirements.txt (line 12)) (2022.12.7)\n",
      "Requirement already satisfied: filelock in /home/safouane/miniconda3/envs/openmmlab/lib/python3.8/site-packages (from torch>=1.8.0->-r algorithms/yolov5/requirements.txt (line 15)) (3.13.1)\n",
      "Requirement already satisfied: typing-extensions in /home/safouane/miniconda3/envs/openmmlab/lib/python3.8/site-packages (from torch>=1.8.0->-r algorithms/yolov5/requirements.txt (line 15)) (4.7.1)\n",
      "Requirement already satisfied: sympy in /home/safouane/.local/lib/python3.8/site-packages (from torch>=1.8.0->-r algorithms/yolov5/requirements.txt (line 15)) (1.11.1)\n",
      "Requirement already satisfied: networkx in /home/safouane/.local/lib/python3.8/site-packages (from torch>=1.8.0->-r algorithms/yolov5/requirements.txt (line 15)) (3.1)\n",
      "Requirement already satisfied: jinja2 in /home/safouane/miniconda3/envs/openmmlab/lib/python3.8/site-packages (from torch>=1.8.0->-r algorithms/yolov5/requirements.txt (line 15)) (3.1.2)\n",
      "Collecting py-cpuinfo (from ultralytics>=8.0.232->-r algorithms/yolov5/requirements.txt (line 18))\n",
      "  Using cached py_cpuinfo-9.0.0-py3-none-any.whl (22 kB)\n",
      "Collecting hub-sdk>=0.0.2 (from ultralytics>=8.0.232->-r algorithms/yolov5/requirements.txt (line 18))\n",
      "  Downloading hub_sdk-0.0.3-py3-none-any.whl.metadata (8.8 kB)\n",
      "Requirement already satisfied: pytz>=2020.1 in /home/safouane/.local/lib/python3.8/site-packages (from pandas>=1.1.4->-r algorithms/yolov5/requirements.txt (line 27)) (2023.3)\n",
      "Requirement already satisfied: six in /home/safouane/miniconda3/envs/openmmlab/lib/python3.8/site-packages (from cycler>=0.10->matplotlib>=3.3->-r algorithms/yolov5/requirements.txt (line 6)) (1.16.0)\n",
      "Requirement already satisfied: smmap<6,>=3.0.1 in /home/safouane/.local/lib/python3.8/site-packages (from gitdb<5,>=4.0.1->gitpython>=3.1.30->-r algorithms/yolov5/requirements.txt (line 5)) (5.0.0)\n",
      "Requirement already satisfied: zipp>=3.1.0 in /home/safouane/.local/lib/python3.8/site-packages (from importlib-resources>=3.2.0->matplotlib>=3.3->-r algorithms/yolov5/requirements.txt (line 6)) (3.15.0)\n",
      "Requirement already satisfied: MarkupSafe>=2.0 in /home/safouane/.local/lib/python3.8/site-packages (from jinja2->torch>=1.8.0->-r algorithms/yolov5/requirements.txt (line 15)) (2.1.3)\n",
      "Requirement already satisfied: mpmath>=0.19 in /home/safouane/.local/lib/python3.8/site-packages (from sympy->torch>=1.8.0->-r algorithms/yolov5/requirements.txt (line 15)) (1.3.0)\n",
      "Downloading pillow-10.2.0-cp38-cp38-manylinux_2_28_x86_64.whl (4.5 MB)\n",
      "\u001b[2K   \u001b[90m━━━━━━━━━━━━━━━━━━━━━━━━━━━━━━━━━━━━━━━━\u001b[0m \u001b[32m4.5/4.5 MB\u001b[0m \u001b[31m17.0 MB/s\u001b[0m eta \u001b[36m0:00:00\u001b[0m00:01\u001b[0m00:01\u001b[0m\n",
      "\u001b[?25hDownloading ultralytics-8.1.0-py3-none-any.whl (699 kB)\n",
      "\u001b[2K   \u001b[90m━━━━━━━━━━━━━━━━━━━━━━━━━━━━━━━━━━━━━━━━\u001b[0m \u001b[32m699.2/699.2 kB\u001b[0m \u001b[31m24.7 MB/s\u001b[0m eta \u001b[36m0:00:00\u001b[0m\n",
      "\u001b[?25hDownloading setuptools-69.0.3-py3-none-any.whl (819 kB)\n",
      "\u001b[2K   \u001b[90m━━━━━━━━━━━━━━━━━━━━━━━━━━━━━━━━━━━━━━━━\u001b[0m \u001b[32m819.5/819.5 kB\u001b[0m \u001b[31m29.2 MB/s\u001b[0m eta \u001b[36m0:00:00\u001b[0m\n",
      "\u001b[?25hDownloading hub_sdk-0.0.3-py3-none-any.whl (37 kB)\n",
      "Installing collected packages: py-cpuinfo, setuptools, Pillow, hub-sdk, ultralytics\n",
      "  Attempting uninstall: setuptools\n",
      "    Found existing installation: setuptools 60.2.0\n",
      "    Uninstalling setuptools-60.2.0:\n",
      "      Successfully uninstalled setuptools-60.2.0\n",
      "  Attempting uninstall: Pillow\n",
      "    Found existing installation: Pillow 9.4.0\n",
      "    Uninstalling Pillow-9.4.0:\n",
      "      Successfully uninstalled Pillow-9.4.0\n",
      "  Attempting uninstall: ultralytics\n",
      "    Found existing installation: ultralytics 8.0.109\n",
      "    Uninstalling ultralytics-8.0.109:\n",
      "      Successfully uninstalled ultralytics-8.0.109\n",
      "\u001b[31mERROR: pip's dependency resolver does not currently take into account all the packages that are installed. This behaviour is the source of the following dependency conflicts.\n",
      "openxlab 0.0.19 requires setuptools~=60.2.0, but you have setuptools 69.0.3 which is incompatible.\u001b[0m\u001b[31m\n",
      "\u001b[0mSuccessfully installed Pillow-10.0.1 hub-sdk-0.0.3 py-cpuinfo-9.0.0 setuptools-69.0.3 ultralytics-8.1.0\n"
     ]
    }
   ],
   "source": [
    "!pip install -r algorithms/yolov5/requirements.txt"
   ]
  },
  {
   "attachments": {},
   "cell_type": "markdown",
   "metadata": {},
   "source": [
    "# --------------------------------- #"
   ]
  },
  {
   "attachments": {},
   "cell_type": "markdown",
   "metadata": {},
   "source": [
    "### YOLOv8\n",
    "8th version:"
   ]
  },
  {
   "cell_type": "code",
   "execution_count": 6,
   "metadata": {},
   "outputs": [
    {
     "name": "stdout",
     "output_type": "stream",
     "text": [
      "Requirement already satisfied: ultralytics in /home/safouane/.local/lib/python3.8/site-packages (8.0.109)\n",
      "Requirement already satisfied: matplotlib>=3.2.2 in /home/safouane/.local/lib/python3.8/site-packages (from ultralytics) (3.7.1)\n",
      "Requirement already satisfied: opencv-python>=4.6.0 in /home/safouane/.local/lib/python3.8/site-packages (from ultralytics) (4.7.0.72)\n",
      "Requirement already satisfied: Pillow>=7.1.2 in /home/safouane/.local/lib/python3.8/site-packages (from ultralytics) (9.4.0)\n",
      "Requirement already satisfied: PyYAML>=5.3.1 in /home/safouane/.local/lib/python3.8/site-packages (from ultralytics) (6.0)\n",
      "Requirement already satisfied: requests>=2.23.0 in /home/safouane/.local/lib/python3.8/site-packages (from ultralytics) (2.28.2)\n",
      "Requirement already satisfied: scipy>=1.4.1 in /home/safouane/.local/lib/python3.8/site-packages (from ultralytics) (1.10.1)\n",
      "Requirement already satisfied: torch>=1.7.0 in /home/safouane/.local/lib/python3.8/site-packages (from ultralytics) (2.0.0)\n",
      "Requirement already satisfied: torchvision>=0.8.1 in /home/safouane/.local/lib/python3.8/site-packages (from ultralytics) (0.15.1)\n",
      "Requirement already satisfied: tqdm>=4.64.0 in /home/safouane/.local/lib/python3.8/site-packages (from ultralytics) (4.65.0)\n",
      "Requirement already satisfied: pandas>=1.1.4 in /home/safouane/.local/lib/python3.8/site-packages (from ultralytics) (1.5.3)\n",
      "Requirement already satisfied: seaborn>=0.11.0 in /home/safouane/.local/lib/python3.8/site-packages (from ultralytics) (0.12.2)\n",
      "Requirement already satisfied: psutil in /home/safouane/.local/lib/python3.8/site-packages (from ultralytics) (5.9.5)\n",
      "Requirement already satisfied: sentry-sdk in /home/safouane/.local/lib/python3.8/site-packages (from ultralytics) (1.20.0)\n",
      "Requirement already satisfied: contourpy>=1.0.1 in /home/safouane/.local/lib/python3.8/site-packages (from matplotlib>=3.2.2->ultralytics) (1.0.7)\n",
      "Requirement already satisfied: cycler>=0.10 in /home/safouane/.local/lib/python3.8/site-packages (from matplotlib>=3.2.2->ultralytics) (0.10.0)\n",
      "Requirement already satisfied: fonttools>=4.22.0 in /home/safouane/.local/lib/python3.8/site-packages (from matplotlib>=3.2.2->ultralytics) (4.39.3)\n",
      "Requirement already satisfied: kiwisolver>=1.0.1 in /home/safouane/.local/lib/python3.8/site-packages (from matplotlib>=3.2.2->ultralytics) (1.4.4)\n",
      "Requirement already satisfied: numpy>=1.20 in /home/safouane/.local/lib/python3.8/site-packages (from matplotlib>=3.2.2->ultralytics) (1.21.6)\n",
      "Requirement already satisfied: packaging>=20.0 in /home/safouane/.local/lib/python3.8/site-packages (from matplotlib>=3.2.2->ultralytics) (23.1)\n",
      "Requirement already satisfied: pyparsing>=2.3.1 in /home/safouane/.local/lib/python3.8/site-packages (from matplotlib>=3.2.2->ultralytics) (2.4.7)\n",
      "Requirement already satisfied: python-dateutil>=2.7 in /home/safouane/.local/lib/python3.8/site-packages (from matplotlib>=3.2.2->ultralytics) (2.8.2)\n",
      "Requirement already satisfied: importlib-resources>=3.2.0; python_version < \"3.10\" in /home/safouane/.local/lib/python3.8/site-packages (from matplotlib>=3.2.2->ultralytics) (5.12.0)\n",
      "Requirement already satisfied: charset-normalizer<4,>=2 in /home/safouane/.local/lib/python3.8/site-packages (from requests>=2.23.0->ultralytics) (3.1.0)\n",
      "Requirement already satisfied: idna<4,>=2.5 in /home/safouane/.local/lib/python3.8/site-packages (from requests>=2.23.0->ultralytics) (2.10)\n",
      "Requirement already satisfied: urllib3<1.27,>=1.21.1 in /home/safouane/.local/lib/python3.8/site-packages (from requests>=2.23.0->ultralytics) (1.26.15)\n",
      "Requirement already satisfied: certifi>=2017.4.17 in /home/safouane/.local/lib/python3.8/site-packages (from requests>=2.23.0->ultralytics) (2022.12.7)\n",
      "Requirement already satisfied: filelock in /usr/lib/python3/dist-packages (from torch>=1.7.0->ultralytics) (3.0.12)\n",
      "Requirement already satisfied: typing-extensions in /home/safouane/.local/lib/python3.8/site-packages (from torch>=1.7.0->ultralytics) (4.5.0)\n",
      "Requirement already satisfied: sympy in /home/safouane/.local/lib/python3.8/site-packages (from torch>=1.7.0->ultralytics) (1.11.1)\n",
      "Requirement already satisfied: networkx in /home/safouane/.local/lib/python3.8/site-packages (from torch>=1.7.0->ultralytics) (3.1)\n",
      "Requirement already satisfied: jinja2 in /home/safouane/.local/lib/python3.8/site-packages (from torch>=1.7.0->ultralytics) (3.1.2)\n",
      "Requirement already satisfied: nvidia-cuda-nvrtc-cu11==11.7.99; platform_system == \"Linux\" and platform_machine == \"x86_64\" in /home/safouane/.local/lib/python3.8/site-packages (from torch>=1.7.0->ultralytics) (11.7.99)\n",
      "Requirement already satisfied: nvidia-cuda-runtime-cu11==11.7.99; platform_system == \"Linux\" and platform_machine == \"x86_64\" in /home/safouane/.local/lib/python3.8/site-packages (from torch>=1.7.0->ultralytics) (11.7.99)\n",
      "Requirement already satisfied: nvidia-cuda-cupti-cu11==11.7.101; platform_system == \"Linux\" and platform_machine == \"x86_64\" in /home/safouane/.local/lib/python3.8/site-packages (from torch>=1.7.0->ultralytics) (11.7.101)\n",
      "Requirement already satisfied: nvidia-cudnn-cu11==8.5.0.96; platform_system == \"Linux\" and platform_machine == \"x86_64\" in /home/safouane/.local/lib/python3.8/site-packages (from torch>=1.7.0->ultralytics) (8.5.0.96)\n",
      "Requirement already satisfied: nvidia-cublas-cu11==11.10.3.66; platform_system == \"Linux\" and platform_machine == \"x86_64\" in /home/safouane/.local/lib/python3.8/site-packages (from torch>=1.7.0->ultralytics) (11.10.3.66)\n",
      "Requirement already satisfied: nvidia-cufft-cu11==10.9.0.58; platform_system == \"Linux\" and platform_machine == \"x86_64\" in /home/safouane/.local/lib/python3.8/site-packages (from torch>=1.7.0->ultralytics) (10.9.0.58)\n",
      "Requirement already satisfied: nvidia-curand-cu11==10.2.10.91; platform_system == \"Linux\" and platform_machine == \"x86_64\" in /home/safouane/.local/lib/python3.8/site-packages (from torch>=1.7.0->ultralytics) (10.2.10.91)\n",
      "Requirement already satisfied: nvidia-cusolver-cu11==11.4.0.1; platform_system == \"Linux\" and platform_machine == \"x86_64\" in /home/safouane/.local/lib/python3.8/site-packages (from torch>=1.7.0->ultralytics) (11.4.0.1)\n",
      "Requirement already satisfied: nvidia-cusparse-cu11==11.7.4.91; platform_system == \"Linux\" and platform_machine == \"x86_64\" in /home/safouane/.local/lib/python3.8/site-packages (from torch>=1.7.0->ultralytics) (11.7.4.91)\n",
      "Requirement already satisfied: nvidia-nccl-cu11==2.14.3; platform_system == \"Linux\" and platform_machine == \"x86_64\" in /home/safouane/.local/lib/python3.8/site-packages (from torch>=1.7.0->ultralytics) (2.14.3)\n",
      "Requirement already satisfied: nvidia-nvtx-cu11==11.7.91; platform_system == \"Linux\" and platform_machine == \"x86_64\" in /home/safouane/.local/lib/python3.8/site-packages (from torch>=1.7.0->ultralytics) (11.7.91)\n",
      "Requirement already satisfied: triton==2.0.0; platform_system == \"Linux\" and platform_machine == \"x86_64\" in /home/safouane/.local/lib/python3.8/site-packages (from torch>=1.7.0->ultralytics) (2.0.0)\n",
      "Requirement already satisfied: pytz>=2020.1 in /home/safouane/.local/lib/python3.8/site-packages (from pandas>=1.1.4->ultralytics) (2023.3)\n",
      "Requirement already satisfied: six in /usr/lib/python3/dist-packages (from cycler>=0.10->matplotlib>=3.2.2->ultralytics) (1.14.0)\n",
      "Requirement already satisfied: zipp>=3.1.0; python_version < \"3.10\" in /home/safouane/.local/lib/python3.8/site-packages (from importlib-resources>=3.2.0; python_version < \"3.10\"->matplotlib>=3.2.2->ultralytics) (3.15.0)\n",
      "Requirement already satisfied: mpmath>=0.19 in /home/safouane/.local/lib/python3.8/site-packages (from sympy->torch>=1.7.0->ultralytics) (1.3.0)\n",
      "Requirement already satisfied: MarkupSafe>=2.0 in /home/safouane/.local/lib/python3.8/site-packages (from jinja2->torch>=1.7.0->ultralytics) (2.1.2)\n",
      "Requirement already satisfied: setuptools in /home/safouane/.local/lib/python3.8/site-packages (from nvidia-cuda-runtime-cu11==11.7.99; platform_system == \"Linux\" and platform_machine == \"x86_64\"->torch>=1.7.0->ultralytics) (67.7.2)\n",
      "Requirement already satisfied: wheel in /usr/lib/python3/dist-packages (from nvidia-cuda-runtime-cu11==11.7.99; platform_system == \"Linux\" and platform_machine == \"x86_64\"->torch>=1.7.0->ultralytics) (0.34.2)\n",
      "Requirement already satisfied: cmake in /home/safouane/.local/lib/python3.8/site-packages (from triton==2.0.0; platform_system == \"Linux\" and platform_machine == \"x86_64\"->torch>=1.7.0->ultralytics) (3.26.3)\n",
      "Requirement already satisfied: lit in /home/safouane/.local/lib/python3.8/site-packages (from triton==2.0.0; platform_system == \"Linux\" and platform_machine == \"x86_64\"->torch>=1.7.0->ultralytics) (16.0.1)\n"
     ]
    }
   ],
   "source": [
    "!pip install ultralytics"
   ]
  },
  {
   "attachments": {},
   "cell_type": "markdown",
   "metadata": {},
   "source": [
    "# ************************************************************************ #"
   ]
  },
  {
   "attachments": {},
   "cell_type": "markdown",
   "metadata": {},
   "source": [
    "## Detectron2"
   ]
  },
  {
   "attachments": {},
   "cell_type": "markdown",
   "metadata": {},
   "source": [
    "### Object Detection library Detectron2\n",
    "\n",
    "https://detectron2.readthedocs.io/en/latest/tutorials/getting_started.html\n"
   ]
  },
  {
   "cell_type": "code",
   "execution_count": 6,
   "metadata": {},
   "outputs": [
    {
     "name": "stdout",
     "output_type": "stream",
     "text": [
      "Cloning into 'detectron2'...\n",
      "remote: Enumerating objects: 15054, done.\u001b[K\n",
      "remote: Counting objects: 100% (79/79), done.\u001b[K\n",
      "remote: Compressing objects: 100% (44/44), done.\u001b[K\n",
      "remote: Total 15054 (delta 37), reused 60 (delta 35), pack-reused 14975\u001b[K\n",
      "Receiving objects: 100% (15054/15054), 6.13 MiB | 20.98 MiB/s, done.\n",
      "Resolving deltas: 100% (10895/10895), done.\n"
     ]
    }
   ],
   "source": [
    "!test -d \"./algorithms/detectron2\" && echo Exists || cd algorithms && git clone https://github.com/facebookresearch/detectron2"
   ]
  },
  {
   "attachments": {},
   "cell_type": "markdown",
   "metadata": {},
   "source": [
    "# ************************************************************************ #"
   ]
  },
  {
   "attachments": {},
   "cell_type": "markdown",
   "metadata": {},
   "source": [
    "# Detectron2"
   ]
  },
  {
   "cell_type": "code",
   "execution_count": 2,
   "metadata": {},
   "outputs": [
    {
     "name": "stdout",
     "output_type": "stream",
     "text": [
      "Collecting git+https://github.com/facebookresearch/detectron2.git\n",
      "  Cloning https://github.com/facebookresearch/detectron2.git to /tmp/pip-req-build-u7x6_a6h\n",
      "  Running command git clone -q https://github.com/facebookresearch/detectron2.git /tmp/pip-req-build-u7x6_a6h\n",
      "Requirement already satisfied: Pillow>=7.1 in /home/safouane/.local/lib/python3.8/site-packages (from detectron2==0.6) (9.4.0)\n",
      "Requirement already satisfied: matplotlib in /home/safouane/.local/lib/python3.8/site-packages (from detectron2==0.6) (3.7.1)\n",
      "Requirement already satisfied: pycocotools>=2.0.2 in /home/safouane/.local/lib/python3.8/site-packages (from detectron2==0.6) (2.0.6)\n",
      "Requirement already satisfied: termcolor>=1.1 in /home/safouane/.local/lib/python3.8/site-packages (from detectron2==0.6) (2.3.0)\n",
      "Collecting yacs>=0.1.8\n",
      "  Using cached yacs-0.1.8-py3-none-any.whl (14 kB)\n",
      "Collecting tabulate\n",
      "  Using cached tabulate-0.9.0-py3-none-any.whl (35 kB)\n",
      "Collecting cloudpickle\n",
      "  Using cached cloudpickle-2.2.1-py3-none-any.whl (25 kB)\n",
      "Requirement already satisfied: tqdm>4.29.0 in /home/safouane/.local/lib/python3.8/site-packages (from detectron2==0.6) (4.65.0)\n",
      "Requirement already satisfied: tensorboard in /home/safouane/.local/lib/python3.8/site-packages (from detectron2==0.6) (2.12.0)\n",
      "Processing /home/safouane/.cache/pip/wheels/b8/79/07/c0e9367f5b5ea325e246bd73651e8af175fabbef943043b1cc/fvcore-0.1.5.post20221221-py3-none-any.whl\n",
      "Collecting iopath<0.1.10,>=0.1.7\n",
      "  Using cached iopath-0.1.9-py3-none-any.whl (27 kB)\n",
      "Collecting omegaconf>=2.1\n",
      "  Using cached omegaconf-2.3.0-py3-none-any.whl (79 kB)\n",
      "Collecting hydra-core>=1.1\n",
      "  Using cached hydra_core-1.3.2-py3-none-any.whl (154 kB)\n",
      "Collecting black\n",
      "  Using cached black-23.3.0-cp38-cp38-manylinux_2_17_x86_64.manylinux2014_x86_64.whl (1.6 MB)\n",
      "Requirement already satisfied: packaging in /home/safouane/.local/lib/python3.8/site-packages (from detectron2==0.6) (23.1)\n",
      "Requirement already satisfied: contourpy>=1.0.1 in /home/safouane/.local/lib/python3.8/site-packages (from matplotlib->detectron2==0.6) (1.0.7)\n",
      "Requirement already satisfied: cycler>=0.10 in /home/safouane/.local/lib/python3.8/site-packages (from matplotlib->detectron2==0.6) (0.10.0)\n",
      "Requirement already satisfied: fonttools>=4.22.0 in /home/safouane/.local/lib/python3.8/site-packages (from matplotlib->detectron2==0.6) (4.39.3)\n",
      "Requirement already satisfied: kiwisolver>=1.0.1 in /home/safouane/.local/lib/python3.8/site-packages (from matplotlib->detectron2==0.6) (1.4.4)\n",
      "Requirement already satisfied: numpy>=1.20 in /home/safouane/.local/lib/python3.8/site-packages (from matplotlib->detectron2==0.6) (1.23.5)\n",
      "Requirement already satisfied: pyparsing>=2.3.1 in /home/safouane/.local/lib/python3.8/site-packages (from matplotlib->detectron2==0.6) (2.4.7)\n",
      "Requirement already satisfied: python-dateutil>=2.7 in /home/safouane/.local/lib/python3.8/site-packages (from matplotlib->detectron2==0.6) (2.8.2)\n",
      "Requirement already satisfied: importlib-resources>=3.2.0; python_version < \"3.10\" in /home/safouane/.local/lib/python3.8/site-packages (from matplotlib->detectron2==0.6) (5.12.0)\n",
      "Requirement already satisfied: PyYAML in /home/safouane/.local/lib/python3.8/site-packages (from yacs>=0.1.8->detectron2==0.6) (6.0)\n",
      "Requirement already satisfied: absl-py>=0.4 in /home/safouane/.local/lib/python3.8/site-packages (from tensorboard->detectron2==0.6) (1.4.0)\n",
      "Requirement already satisfied: grpcio>=1.48.2 in /home/safouane/.local/lib/python3.8/site-packages (from tensorboard->detectron2==0.6) (1.54.0)\n",
      "Requirement already satisfied: google-auth<3,>=1.6.3 in /home/safouane/.local/lib/python3.8/site-packages (from tensorboard->detectron2==0.6) (2.17.3)\n",
      "Requirement already satisfied: google-auth-oauthlib<0.5,>=0.4.1 in /home/safouane/.local/lib/python3.8/site-packages (from tensorboard->detectron2==0.6) (0.4.6)\n",
      "Requirement already satisfied: markdown>=2.6.8 in /home/safouane/.local/lib/python3.8/site-packages (from tensorboard->detectron2==0.6) (3.4.3)\n",
      "Requirement already satisfied: protobuf>=3.19.6 in /home/safouane/.local/lib/python3.8/site-packages (from tensorboard->detectron2==0.6) (4.23.3)\n",
      "Requirement already satisfied: requests<3,>=2.21.0 in /home/safouane/.local/lib/python3.8/site-packages (from tensorboard->detectron2==0.6) (2.28.2)\n",
      "Requirement already satisfied: setuptools>=41.0.0 in /home/safouane/.local/lib/python3.8/site-packages (from tensorboard->detectron2==0.6) (67.7.2)\n",
      "Requirement already satisfied: tensorboard-data-server<0.8.0,>=0.7.0 in /home/safouane/.local/lib/python3.8/site-packages (from tensorboard->detectron2==0.6) (0.7.0)\n",
      "Requirement already satisfied: tensorboard-plugin-wit>=1.6.0 in /home/safouane/.local/lib/python3.8/site-packages (from tensorboard->detectron2==0.6) (1.8.1)\n",
      "Requirement already satisfied: werkzeug>=1.0.1 in /home/safouane/.local/lib/python3.8/site-packages (from tensorboard->detectron2==0.6) (2.2.3)\n",
      "Requirement already satisfied: wheel>=0.26 in /usr/lib/python3/dist-packages (from tensorboard->detectron2==0.6) (0.34.2)\n",
      "Collecting portalocker\n",
      "  Using cached portalocker-2.7.0-py2.py3-none-any.whl (15 kB)\n",
      "Processing /home/safouane/.cache/pip/wheels/b1/a3/c2/6df046c09459b73cc9bb6c4401b0be6c47048baf9a1617c485/antlr4_python3_runtime-4.9.3-py3-none-any.whl\n",
      "Collecting click>=8.0.0\n",
      "  Using cached click-8.1.3-py3-none-any.whl (96 kB)\n",
      "Collecting mypy-extensions>=0.4.3\n",
      "  Using cached mypy_extensions-1.0.0-py3-none-any.whl (4.7 kB)\n",
      "Collecting pathspec>=0.9.0\n",
      "  Using cached pathspec-0.11.1-py3-none-any.whl (29 kB)\n",
      "Requirement already satisfied: platformdirs>=2 in /home/safouane/.local/lib/python3.8/site-packages (from black->detectron2==0.6) (3.2.0)\n",
      "Collecting tomli>=1.1.0; python_version < \"3.11\"\n",
      "  Using cached tomli-2.0.1-py3-none-any.whl (12 kB)\n",
      "Requirement already satisfied: typing-extensions>=3.10.0.0; python_version < \"3.10\" in /home/safouane/.local/lib/python3.8/site-packages (from black->detectron2==0.6) (4.5.0)\n",
      "Requirement already satisfied: six in /usr/lib/python3/dist-packages (from cycler>=0.10->matplotlib->detectron2==0.6) (1.14.0)\n",
      "Requirement already satisfied: zipp>=3.1.0; python_version < \"3.10\" in /home/safouane/.local/lib/python3.8/site-packages (from importlib-resources>=3.2.0; python_version < \"3.10\"->matplotlib->detectron2==0.6) (3.15.0)\n",
      "Requirement already satisfied: cachetools<6.0,>=2.0.0 in /home/safouane/.local/lib/python3.8/site-packages (from google-auth<3,>=1.6.3->tensorboard->detectron2==0.6) (5.3.0)\n",
      "Requirement already satisfied: pyasn1-modules>=0.2.1 in /home/safouane/.local/lib/python3.8/site-packages (from google-auth<3,>=1.6.3->tensorboard->detectron2==0.6) (0.3.0)\n",
      "Requirement already satisfied: rsa<5,>=3.1.4; python_version >= \"3.6\" in /home/safouane/.local/lib/python3.8/site-packages (from google-auth<3,>=1.6.3->tensorboard->detectron2==0.6) (4.9)\n",
      "Requirement already satisfied: requests-oauthlib>=0.7.0 in /home/safouane/.local/lib/python3.8/site-packages (from google-auth-oauthlib<0.5,>=0.4.1->tensorboard->detectron2==0.6) (1.3.1)\n",
      "Requirement already satisfied: importlib-metadata>=4.4; python_version < \"3.10\" in /home/safouane/.local/lib/python3.8/site-packages (from markdown>=2.6.8->tensorboard->detectron2==0.6) (6.5.0)\n",
      "Requirement already satisfied: charset-normalizer<4,>=2 in /home/safouane/.local/lib/python3.8/site-packages (from requests<3,>=2.21.0->tensorboard->detectron2==0.6) (3.1.0)\n",
      "Requirement already satisfied: idna<4,>=2.5 in /home/safouane/.local/lib/python3.8/site-packages (from requests<3,>=2.21.0->tensorboard->detectron2==0.6) (2.10)\n",
      "Requirement already satisfied: urllib3<1.27,>=1.21.1 in /home/safouane/.local/lib/python3.8/site-packages (from requests<3,>=2.21.0->tensorboard->detectron2==0.6) (1.26.15)\n",
      "Requirement already satisfied: certifi>=2017.4.17 in /home/safouane/.local/lib/python3.8/site-packages (from requests<3,>=2.21.0->tensorboard->detectron2==0.6) (2022.12.7)\n",
      "Requirement already satisfied: MarkupSafe>=2.1.1 in /home/safouane/.local/lib/python3.8/site-packages (from werkzeug>=1.0.1->tensorboard->detectron2==0.6) (2.1.2)\n",
      "Requirement already satisfied: pyasn1<0.6.0,>=0.4.6 in /home/safouane/.local/lib/python3.8/site-packages (from pyasn1-modules>=0.2.1->google-auth<3,>=1.6.3->tensorboard->detectron2==0.6) (0.5.0)\n",
      "Requirement already satisfied: oauthlib>=3.0.0 in /usr/lib/python3/dist-packages (from requests-oauthlib>=0.7.0->google-auth-oauthlib<0.5,>=0.4.1->tensorboard->detectron2==0.6) (3.1.0)\n",
      "Building wheels for collected packages: detectron2\n",
      "  Building wheel for detectron2 (setup.py) ... \u001b[?25ldone\n",
      "\u001b[?25h  Created wheel for detectron2: filename=detectron2-0.6-cp38-cp38-linux_x86_64.whl size=7807133 sha256=6c868c2e9eced8e064f63c8f3cf2140e04fa8e3727c698b48501b78818c7d840\n",
      "  Stored in directory: /tmp/pip-ephem-wheel-cache-ejwewx60/wheels/19/ac/65/e48e5e4ec2702274d927c5a6efb75709b24014371d3bb778f2\n",
      "Successfully built detectron2\n",
      "Installing collected packages: yacs, tabulate, cloudpickle, portalocker, iopath, fvcore, antlr4-python3-runtime, omegaconf, hydra-core, click, mypy-extensions, pathspec, tomli, black, detectron2\n",
      "Successfully installed antlr4-python3-runtime-4.9.3 black-23.3.0 click-8.1.3 cloudpickle-2.2.1 detectron2-0.6 fvcore-0.1.5.post20221221 hydra-core-1.3.2 iopath-0.1.9 mypy-extensions-1.0.0 omegaconf-2.3.0 pathspec-0.11.1 portalocker-2.7.0 tabulate-0.9.0 tomli-2.0.1 yacs-0.1.8\n"
     ]
    }
   ],
   "source": [
    "!pip install 'git+https://github.com/facebookresearch/detectron2.git'"
   ]
  },
  {
   "attachments": {},
   "cell_type": "markdown",
   "metadata": {},
   "source": [
    "# ************************************************************************ #"
   ]
  },
  {
   "cell_type": "code",
   "execution_count": null,
   "metadata": {},
   "outputs": [],
   "source": []
  }
 ],
 "metadata": {
  "kernelspec": {
   "display_name": "Python 3",
   "language": "python",
   "name": "python3"
  },
  "language_info": {
   "codemirror_mode": {
    "name": "ipython",
    "version": 3
   },
   "file_extension": ".py",
   "mimetype": "text/x-python",
   "name": "python",
   "nbconvert_exporter": "python",
   "pygments_lexer": "ipython3",
   "version": "3.8.18"
  },
  "orig_nbformat": 4
 },
 "nbformat": 4,
 "nbformat_minor": 2
}
